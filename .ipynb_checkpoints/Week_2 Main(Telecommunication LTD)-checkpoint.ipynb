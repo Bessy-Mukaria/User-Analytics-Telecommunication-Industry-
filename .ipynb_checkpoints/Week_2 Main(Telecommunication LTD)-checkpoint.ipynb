{
 "cells": [
  {
   "cell_type": "markdown",
   "metadata": {},
   "source": [
    "### Importing the dataset"
   ]
  },
  {
   "cell_type": "code",
   "execution_count": 1,
   "metadata": {},
   "outputs": [],
   "source": [
    "# Importing the necessary modules.\n",
    "import numpy as np\n",
    "import pandas as pd\n",
    "import seaborn as sns\n",
    "import matplotlib.pyplot as plt\n",
    "from statistics import *\n",
    "import warnings\n",
    "warnings.filterwarnings('ignore')"
   ]
  },
  {
   "cell_type": "code",
   "execution_count": 3,
   "metadata": {},
   "outputs": [],
   "source": [
    "#Importing the xlsx file.\n",
    "Telecom_data = pd.read_excel('Week2_challenge_data_source.xlsx')"
   ]
  },
  {
   "cell_type": "markdown",
   "metadata": {},
   "source": [
    "### Data understanding"
   ]
  },
  {
   "cell_type": "code",
   "execution_count": 41,
   "metadata": {},
   "outputs": [
    {
     "data": {
      "text/plain": [
       "8250055"
      ]
     },
     "execution_count": 41,
     "metadata": {},
     "output_type": "execute_result"
    }
   ],
   "source": [
    "# the number of elements in this object.\n",
    "Telecom_data.size"
   ]
  },
  {
   "cell_type": "code",
   "execution_count": 42,
   "metadata": {},
   "outputs": [
    {
     "data": {
      "text/plain": [
       "(150001, 55)"
      ]
     },
     "execution_count": 42,
     "metadata": {},
     "output_type": "execute_result"
    }
   ],
   "source": [
    "# shape:representing the dimensionality of the DataFrame.\n",
    "Telecom_data.shape"
   ]
  },
  {
   "cell_type": "code",
   "execution_count": 44,
   "metadata": {},
   "outputs": [
    {
     "data": {
      "text/plain": [
       "Bearer Id                                           object\n",
       "Start                                       datetime64[ns]\n",
       "Start ms                                           float64\n",
       "End                                         datetime64[ns]\n",
       "End ms                                             float64\n",
       "Dur. (ms)                                          float64\n",
       "IMSI                                               float64\n",
       "MSISDN/Number                                      float64\n",
       "IMEI                                               float64\n",
       "Last Location Name                                  object\n",
       "Avg RTT DL (ms)                                    float64\n",
       "Avg RTT UL (ms)                                    float64\n",
       "Avg Bearer TP DL (kbps)                            float64\n",
       "Avg Bearer TP UL (kbps)                            float64\n",
       "TCP DL Retrans. Vol (Bytes)                        float64\n",
       "TCP UL Retrans. Vol (Bytes)                        float64\n",
       "DL TP < 50 Kbps (%)                                float64\n",
       "50 Kbps < DL TP < 250 Kbps (%)                     float64\n",
       "250 Kbps < DL TP < 1 Mbps (%)                      float64\n",
       "DL TP > 1 Mbps (%)                                 float64\n",
       "UL TP < 10 Kbps (%)                                float64\n",
       "10 Kbps < UL TP < 50 Kbps (%)                      float64\n",
       "50 Kbps < UL TP < 300 Kbps (%)                     float64\n",
       "UL TP > 300 Kbps (%)                               float64\n",
       "HTTP DL (Bytes)                                    float64\n",
       "HTTP UL (Bytes)                                    float64\n",
       "Activity Duration DL (ms)                          float64\n",
       "Activity Duration UL (ms)                          float64\n",
       "Dur. (ms).1                                        float64\n",
       "Handset Manufacturer                                object\n",
       "Handset Type                                        object\n",
       "Nb of sec with 125000B < Vol DL                    float64\n",
       "Nb of sec with 1250B < Vol UL < 6250B              float64\n",
       "Nb of sec with 31250B < Vol DL < 125000B           float64\n",
       "Nb of sec with 37500B < Vol UL                     float64\n",
       "Nb of sec with 6250B < Vol DL < 31250B             float64\n",
       "Nb of sec with 6250B < Vol UL < 37500B             float64\n",
       "Nb of sec with Vol DL < 6250B                      float64\n",
       "Nb of sec with Vol UL < 1250B                      float64\n",
       "Social Media DL (Bytes)                            float64\n",
       "Social Media UL (Bytes)                            float64\n",
       "Google DL (Bytes)                                  float64\n",
       "Google UL (Bytes)                                  float64\n",
       "Email DL (Bytes)                                   float64\n",
       "Email UL (Bytes)                                   float64\n",
       "Youtube DL (Bytes)                                 float64\n",
       "Youtube UL (Bytes)                                 float64\n",
       "Netflix DL (Bytes)                                 float64\n",
       "Netflix UL (Bytes)                                 float64\n",
       "Gaming DL (Bytes)                                  float64\n",
       "Gaming UL (Bytes)                                  float64\n",
       "Other DL (Bytes)                                   float64\n",
       "Other UL (Bytes)                                   float64\n",
       "Total UL (Bytes)                                   float64\n",
       "Total DL (Bytes)                                   float64\n",
       "dtype: object"
      ]
     },
     "execution_count": 44,
     "metadata": {},
     "output_type": "execute_result"
    }
   ],
   "source": [
    "# dtypes in the DataFrame.\n",
    "Telecom_data.dtypes"
   ]
  },
  {
   "cell_type": "markdown",
   "metadata": {},
   "source": [
    "### Summary."
   ]
  },
  {
   "cell_type": "code",
   "execution_count": 6,
   "metadata": {},
   "outputs": [
    {
     "name": "stdout",
     "output_type": "stream",
     "text": [
      "<class 'pandas.core.frame.DataFrame'>\n",
      "RangeIndex: 150001 entries, 0 to 150000\n",
      "Data columns (total 55 columns):\n",
      " #   Column                                    Non-Null Count   Dtype         \n",
      "---  ------                                    --------------   -----         \n",
      " 0   Bearer Id                                 150001 non-null  object        \n",
      " 1   Start                                     150000 non-null  datetime64[ns]\n",
      " 2   Start ms                                  150000 non-null  float64       \n",
      " 3   End                                       150000 non-null  datetime64[ns]\n",
      " 4   End ms                                    150000 non-null  float64       \n",
      " 5   Dur. (ms)                                 150000 non-null  float64       \n",
      " 6   IMSI                                      149431 non-null  float64       \n",
      " 7   MSISDN/Number                             148935 non-null  float64       \n",
      " 8   IMEI                                      149429 non-null  float64       \n",
      " 9   Last Location Name                        148848 non-null  object        \n",
      " 10  Avg RTT DL (ms)                           122172 non-null  float64       \n",
      " 11  Avg RTT UL (ms)                           122189 non-null  float64       \n",
      " 12  Avg Bearer TP DL (kbps)                   150000 non-null  float64       \n",
      " 13  Avg Bearer TP UL (kbps)                   150000 non-null  float64       \n",
      " 14  TCP DL Retrans. Vol (Bytes)               61855 non-null   float64       \n",
      " 15  TCP UL Retrans. Vol (Bytes)               53352 non-null   float64       \n",
      " 16  DL TP < 50 Kbps (%)                       149247 non-null  float64       \n",
      " 17  50 Kbps < DL TP < 250 Kbps (%)            149247 non-null  float64       \n",
      " 18  250 Kbps < DL TP < 1 Mbps (%)             149247 non-null  float64       \n",
      " 19  DL TP > 1 Mbps (%)                        149247 non-null  float64       \n",
      " 20  UL TP < 10 Kbps (%)                       149209 non-null  float64       \n",
      " 21  10 Kbps < UL TP < 50 Kbps (%)             149209 non-null  float64       \n",
      " 22  50 Kbps < UL TP < 300 Kbps (%)            149209 non-null  float64       \n",
      " 23  UL TP > 300 Kbps (%)                      149209 non-null  float64       \n",
      " 24  HTTP DL (Bytes)                           68527 non-null   float64       \n",
      " 25  HTTP UL (Bytes)                           68191 non-null   float64       \n",
      " 26  Activity Duration DL (ms)                 150000 non-null  float64       \n",
      " 27  Activity Duration UL (ms)                 150000 non-null  float64       \n",
      " 28  Dur. (ms).1                               150000 non-null  float64       \n",
      " 29  Handset Manufacturer                      149429 non-null  object        \n",
      " 30  Handset Type                              149429 non-null  object        \n",
      " 31  Nb of sec with 125000B < Vol DL           52463 non-null   float64       \n",
      " 32  Nb of sec with 1250B < Vol UL < 6250B     57107 non-null   float64       \n",
      " 33  Nb of sec with 31250B < Vol DL < 125000B  56415 non-null   float64       \n",
      " 34  Nb of sec with 37500B < Vol UL            19747 non-null   float64       \n",
      " 35  Nb of sec with 6250B < Vol DL < 31250B    61684 non-null   float64       \n",
      " 36  Nb of sec with 6250B < Vol UL < 37500B    38158 non-null   float64       \n",
      " 37  Nb of sec with Vol DL < 6250B             149246 non-null  float64       \n",
      " 38  Nb of sec with Vol UL < 1250B             149208 non-null  float64       \n",
      " 39  Social Media DL (Bytes)                   150001 non-null  float64       \n",
      " 40  Social Media UL (Bytes)                   150001 non-null  float64       \n",
      " 41  Google DL (Bytes)                         150001 non-null  float64       \n",
      " 42  Google UL (Bytes)                         150001 non-null  float64       \n",
      " 43  Email DL (Bytes)                          150001 non-null  float64       \n",
      " 44  Email UL (Bytes)                          150001 non-null  float64       \n",
      " 45  Youtube DL (Bytes)                        150001 non-null  float64       \n",
      " 46  Youtube UL (Bytes)                        150001 non-null  float64       \n",
      " 47  Netflix DL (Bytes)                        150001 non-null  float64       \n",
      " 48  Netflix UL (Bytes)                        150001 non-null  float64       \n",
      " 49  Gaming DL (Bytes)                         150001 non-null  float64       \n",
      " 50  Gaming UL (Bytes)                         150001 non-null  float64       \n",
      " 51  Other DL (Bytes)                          150001 non-null  float64       \n",
      " 52  Other UL (Bytes)                          150001 non-null  float64       \n",
      " 53  Total UL (Bytes)                          150000 non-null  float64       \n",
      " 54  Total DL (Bytes)                          150000 non-null  float64       \n",
      "dtypes: datetime64[ns](2), float64(49), object(4)\n",
      "memory usage: 62.9+ MB\n"
     ]
    }
   ],
   "source": [
    "# info(): summary of a DataFrame.\n",
    "Telecom_data.info()"
   ]
  },
  {
   "cell_type": "code",
   "execution_count": 45,
   "metadata": {},
   "outputs": [
    {
     "data": {
      "text/html": [
       "<div>\n",
       "<style scoped>\n",
       "    .dataframe tbody tr th:only-of-type {\n",
       "        vertical-align: middle;\n",
       "    }\n",
       "\n",
       "    .dataframe tbody tr th {\n",
       "        vertical-align: top;\n",
       "    }\n",
       "\n",
       "    .dataframe thead th {\n",
       "        text-align: right;\n",
       "    }\n",
       "</style>\n",
       "<table border=\"1\" class=\"dataframe\">\n",
       "  <thead>\n",
       "    <tr style=\"text-align: right;\">\n",
       "      <th></th>\n",
       "      <th>Start ms</th>\n",
       "      <th>End ms</th>\n",
       "      <th>Dur. (ms)</th>\n",
       "      <th>IMSI</th>\n",
       "      <th>MSISDN/Number</th>\n",
       "      <th>IMEI</th>\n",
       "      <th>Avg RTT DL (ms)</th>\n",
       "      <th>Avg RTT UL (ms)</th>\n",
       "      <th>Avg Bearer TP DL (kbps)</th>\n",
       "      <th>Avg Bearer TP UL (kbps)</th>\n",
       "      <th>...</th>\n",
       "      <th>Youtube DL (Bytes)</th>\n",
       "      <th>Youtube UL (Bytes)</th>\n",
       "      <th>Netflix DL (Bytes)</th>\n",
       "      <th>Netflix UL (Bytes)</th>\n",
       "      <th>Gaming DL (Bytes)</th>\n",
       "      <th>Gaming UL (Bytes)</th>\n",
       "      <th>Other DL (Bytes)</th>\n",
       "      <th>Other UL (Bytes)</th>\n",
       "      <th>Total UL (Bytes)</th>\n",
       "      <th>Total DL (Bytes)</th>\n",
       "    </tr>\n",
       "  </thead>\n",
       "  <tbody>\n",
       "    <tr>\n",
       "      <th>count</th>\n",
       "      <td>150000.000000</td>\n",
       "      <td>150000.000000</td>\n",
       "      <td>1.500010e+05</td>\n",
       "      <td>1.494310e+05</td>\n",
       "      <td>1.489350e+05</td>\n",
       "      <td>1.494290e+05</td>\n",
       "      <td>122172.000000</td>\n",
       "      <td>122189.000000</td>\n",
       "      <td>150000.000000</td>\n",
       "      <td>150000.000000</td>\n",
       "      <td>...</td>\n",
       "      <td>1.500010e+05</td>\n",
       "      <td>1.500010e+05</td>\n",
       "      <td>1.500010e+05</td>\n",
       "      <td>1.500010e+05</td>\n",
       "      <td>1.500010e+05</td>\n",
       "      <td>1.500010e+05</td>\n",
       "      <td>1.500010e+05</td>\n",
       "      <td>1.500010e+05</td>\n",
       "      <td>1.500010e+05</td>\n",
       "      <td>1.500010e+05</td>\n",
       "    </tr>\n",
       "    <tr>\n",
       "      <th>mean</th>\n",
       "      <td>499.188200</td>\n",
       "      <td>498.800880</td>\n",
       "      <td>1.046086e+05</td>\n",
       "      <td>2.082016e+14</td>\n",
       "      <td>4.188282e+10</td>\n",
       "      <td>4.847455e+13</td>\n",
       "      <td>109.795706</td>\n",
       "      <td>17.662883</td>\n",
       "      <td>13300.045927</td>\n",
       "      <td>1770.428647</td>\n",
       "      <td>...</td>\n",
       "      <td>1.163407e+07</td>\n",
       "      <td>1.100941e+07</td>\n",
       "      <td>1.162685e+07</td>\n",
       "      <td>1.100175e+07</td>\n",
       "      <td>4.220447e+08</td>\n",
       "      <td>8.288398e+06</td>\n",
       "      <td>4.211005e+08</td>\n",
       "      <td>8.264799e+06</td>\n",
       "      <td>4.112121e+07</td>\n",
       "      <td>4.546407e+08</td>\n",
       "    </tr>\n",
       "    <tr>\n",
       "      <th>std</th>\n",
       "      <td>288.611834</td>\n",
       "      <td>288.097653</td>\n",
       "      <td>8.103735e+04</td>\n",
       "      <td>2.148809e+10</td>\n",
       "      <td>2.447443e+12</td>\n",
       "      <td>2.241637e+13</td>\n",
       "      <td>619.782739</td>\n",
       "      <td>84.793524</td>\n",
       "      <td>23971.878541</td>\n",
       "      <td>4625.355500</td>\n",
       "      <td>...</td>\n",
       "      <td>6.710569e+06</td>\n",
       "      <td>6.345423e+06</td>\n",
       "      <td>6.725218e+06</td>\n",
       "      <td>6.359490e+06</td>\n",
       "      <td>2.439675e+08</td>\n",
       "      <td>4.782700e+06</td>\n",
       "      <td>2.432050e+08</td>\n",
       "      <td>4.769004e+06</td>\n",
       "      <td>1.127635e+07</td>\n",
       "      <td>2.441444e+08</td>\n",
       "    </tr>\n",
       "    <tr>\n",
       "      <th>min</th>\n",
       "      <td>0.000000</td>\n",
       "      <td>0.000000</td>\n",
       "      <td>7.142000e+03</td>\n",
       "      <td>2.040471e+14</td>\n",
       "      <td>3.360100e+10</td>\n",
       "      <td>4.400152e+11</td>\n",
       "      <td>0.000000</td>\n",
       "      <td>0.000000</td>\n",
       "      <td>0.000000</td>\n",
       "      <td>0.000000</td>\n",
       "      <td>...</td>\n",
       "      <td>5.300000e+01</td>\n",
       "      <td>1.050000e+02</td>\n",
       "      <td>4.200000e+01</td>\n",
       "      <td>3.500000e+01</td>\n",
       "      <td>2.516000e+03</td>\n",
       "      <td>5.900000e+01</td>\n",
       "      <td>3.290000e+03</td>\n",
       "      <td>1.480000e+02</td>\n",
       "      <td>2.866892e+06</td>\n",
       "      <td>7.114041e+06</td>\n",
       "    </tr>\n",
       "    <tr>\n",
       "      <th>25%</th>\n",
       "      <td>250.000000</td>\n",
       "      <td>251.000000</td>\n",
       "      <td>5.744200e+04</td>\n",
       "      <td>2.082014e+14</td>\n",
       "      <td>3.365130e+10</td>\n",
       "      <td>3.546071e+13</td>\n",
       "      <td>32.000000</td>\n",
       "      <td>2.000000</td>\n",
       "      <td>43.000000</td>\n",
       "      <td>47.000000</td>\n",
       "      <td>...</td>\n",
       "      <td>5.833501e+06</td>\n",
       "      <td>5.517965e+06</td>\n",
       "      <td>5.777156e+06</td>\n",
       "      <td>5.475981e+06</td>\n",
       "      <td>2.104733e+08</td>\n",
       "      <td>4.128476e+06</td>\n",
       "      <td>2.101869e+08</td>\n",
       "      <td>4.145943e+06</td>\n",
       "      <td>3.322203e+07</td>\n",
       "      <td>2.431057e+08</td>\n",
       "    </tr>\n",
       "    <tr>\n",
       "      <th>50%</th>\n",
       "      <td>499.000000</td>\n",
       "      <td>500.000000</td>\n",
       "      <td>8.639900e+04</td>\n",
       "      <td>2.082015e+14</td>\n",
       "      <td>3.366371e+10</td>\n",
       "      <td>3.572201e+13</td>\n",
       "      <td>45.000000</td>\n",
       "      <td>5.000000</td>\n",
       "      <td>63.000000</td>\n",
       "      <td>63.000000</td>\n",
       "      <td>...</td>\n",
       "      <td>1.161602e+07</td>\n",
       "      <td>1.101345e+07</td>\n",
       "      <td>1.164222e+07</td>\n",
       "      <td>1.099638e+07</td>\n",
       "      <td>4.234081e+08</td>\n",
       "      <td>8.291208e+06</td>\n",
       "      <td>4.218030e+08</td>\n",
       "      <td>8.267071e+06</td>\n",
       "      <td>4.114324e+07</td>\n",
       "      <td>4.558409e+08</td>\n",
       "    </tr>\n",
       "    <tr>\n",
       "      <th>75%</th>\n",
       "      <td>749.000000</td>\n",
       "      <td>750.000000</td>\n",
       "      <td>1.324300e+05</td>\n",
       "      <td>2.082018e+14</td>\n",
       "      <td>3.368349e+10</td>\n",
       "      <td>8.611970e+13</td>\n",
       "      <td>70.000000</td>\n",
       "      <td>15.000000</td>\n",
       "      <td>19710.750000</td>\n",
       "      <td>1120.000000</td>\n",
       "      <td>...</td>\n",
       "      <td>1.744852e+07</td>\n",
       "      <td>1.651556e+07</td>\n",
       "      <td>1.747048e+07</td>\n",
       "      <td>1.650727e+07</td>\n",
       "      <td>6.331742e+08</td>\n",
       "      <td>1.243162e+07</td>\n",
       "      <td>6.316918e+08</td>\n",
       "      <td>1.238415e+07</td>\n",
       "      <td>4.903424e+07</td>\n",
       "      <td>6.657051e+08</td>\n",
       "    </tr>\n",
       "    <tr>\n",
       "      <th>max</th>\n",
       "      <td>999.000000</td>\n",
       "      <td>999.000000</td>\n",
       "      <td>1.859336e+06</td>\n",
       "      <td>2.140743e+14</td>\n",
       "      <td>8.823971e+14</td>\n",
       "      <td>9.900120e+13</td>\n",
       "      <td>96923.000000</td>\n",
       "      <td>7120.000000</td>\n",
       "      <td>378160.000000</td>\n",
       "      <td>58613.000000</td>\n",
       "      <td>...</td>\n",
       "      <td>2.325910e+07</td>\n",
       "      <td>2.201196e+07</td>\n",
       "      <td>2.325919e+07</td>\n",
       "      <td>2.201196e+07</td>\n",
       "      <td>8.434419e+08</td>\n",
       "      <td>1.655879e+07</td>\n",
       "      <td>8.434425e+08</td>\n",
       "      <td>1.655882e+07</td>\n",
       "      <td>7.833131e+07</td>\n",
       "      <td>9.029696e+08</td>\n",
       "    </tr>\n",
       "  </tbody>\n",
       "</table>\n",
       "<p>8 rows × 49 columns</p>\n",
       "</div>"
      ],
      "text/plain": [
       "            Start ms         End ms     Dur. (ms)          IMSI  \\\n",
       "count  150000.000000  150000.000000  1.500010e+05  1.494310e+05   \n",
       "mean      499.188200     498.800880  1.046086e+05  2.082016e+14   \n",
       "std       288.611834     288.097653  8.103735e+04  2.148809e+10   \n",
       "min         0.000000       0.000000  7.142000e+03  2.040471e+14   \n",
       "25%       250.000000     251.000000  5.744200e+04  2.082014e+14   \n",
       "50%       499.000000     500.000000  8.639900e+04  2.082015e+14   \n",
       "75%       749.000000     750.000000  1.324300e+05  2.082018e+14   \n",
       "max       999.000000     999.000000  1.859336e+06  2.140743e+14   \n",
       "\n",
       "       MSISDN/Number          IMEI  Avg RTT DL (ms)  Avg RTT UL (ms)  \\\n",
       "count   1.489350e+05  1.494290e+05    122172.000000    122189.000000   \n",
       "mean    4.188282e+10  4.847455e+13       109.795706        17.662883   \n",
       "std     2.447443e+12  2.241637e+13       619.782739        84.793524   \n",
       "min     3.360100e+10  4.400152e+11         0.000000         0.000000   \n",
       "25%     3.365130e+10  3.546071e+13        32.000000         2.000000   \n",
       "50%     3.366371e+10  3.572201e+13        45.000000         5.000000   \n",
       "75%     3.368349e+10  8.611970e+13        70.000000        15.000000   \n",
       "max     8.823971e+14  9.900120e+13     96923.000000      7120.000000   \n",
       "\n",
       "       Avg Bearer TP DL (kbps)  Avg Bearer TP UL (kbps)  ...  \\\n",
       "count            150000.000000            150000.000000  ...   \n",
       "mean              13300.045927              1770.428647  ...   \n",
       "std               23971.878541              4625.355500  ...   \n",
       "min                   0.000000                 0.000000  ...   \n",
       "25%                  43.000000                47.000000  ...   \n",
       "50%                  63.000000                63.000000  ...   \n",
       "75%               19710.750000              1120.000000  ...   \n",
       "max              378160.000000             58613.000000  ...   \n",
       "\n",
       "       Youtube DL (Bytes)  Youtube UL (Bytes)  Netflix DL (Bytes)  \\\n",
       "count        1.500010e+05        1.500010e+05        1.500010e+05   \n",
       "mean         1.163407e+07        1.100941e+07        1.162685e+07   \n",
       "std          6.710569e+06        6.345423e+06        6.725218e+06   \n",
       "min          5.300000e+01        1.050000e+02        4.200000e+01   \n",
       "25%          5.833501e+06        5.517965e+06        5.777156e+06   \n",
       "50%          1.161602e+07        1.101345e+07        1.164222e+07   \n",
       "75%          1.744852e+07        1.651556e+07        1.747048e+07   \n",
       "max          2.325910e+07        2.201196e+07        2.325919e+07   \n",
       "\n",
       "       Netflix UL (Bytes)  Gaming DL (Bytes)  Gaming UL (Bytes)  \\\n",
       "count        1.500010e+05       1.500010e+05       1.500010e+05   \n",
       "mean         1.100175e+07       4.220447e+08       8.288398e+06   \n",
       "std          6.359490e+06       2.439675e+08       4.782700e+06   \n",
       "min          3.500000e+01       2.516000e+03       5.900000e+01   \n",
       "25%          5.475981e+06       2.104733e+08       4.128476e+06   \n",
       "50%          1.099638e+07       4.234081e+08       8.291208e+06   \n",
       "75%          1.650727e+07       6.331742e+08       1.243162e+07   \n",
       "max          2.201196e+07       8.434419e+08       1.655879e+07   \n",
       "\n",
       "       Other DL (Bytes)  Other UL (Bytes)  Total UL (Bytes)  Total DL (Bytes)  \n",
       "count      1.500010e+05      1.500010e+05      1.500010e+05      1.500010e+05  \n",
       "mean       4.211005e+08      8.264799e+06      4.112121e+07      4.546407e+08  \n",
       "std        2.432050e+08      4.769004e+06      1.127635e+07      2.441444e+08  \n",
       "min        3.290000e+03      1.480000e+02      2.866892e+06      7.114041e+06  \n",
       "25%        2.101869e+08      4.145943e+06      3.322203e+07      2.431057e+08  \n",
       "50%        4.218030e+08      8.267071e+06      4.114324e+07      4.558409e+08  \n",
       "75%        6.316918e+08      1.238415e+07      4.903424e+07      6.657051e+08  \n",
       "max        8.434425e+08      1.655882e+07      7.833131e+07      9.029696e+08  \n",
       "\n",
       "[8 rows x 49 columns]"
      ]
     },
     "execution_count": 45,
     "metadata": {},
     "output_type": "execute_result"
    }
   ],
   "source": [
    "# describe(): Generates descriptive statistics\n",
    "Telecom_data.describe()"
   ]
  },
  {
   "cell_type": "code",
   "execution_count": 8,
   "metadata": {},
   "outputs": [
    {
     "data": {
      "text/html": [
       "<div>\n",
       "<style scoped>\n",
       "    .dataframe tbody tr th:only-of-type {\n",
       "        vertical-align: middle;\n",
       "    }\n",
       "\n",
       "    .dataframe tbody tr th {\n",
       "        vertical-align: top;\n",
       "    }\n",
       "\n",
       "    .dataframe thead th {\n",
       "        text-align: right;\n",
       "    }\n",
       "</style>\n",
       "<table border=\"1\" class=\"dataframe\">\n",
       "  <thead>\n",
       "    <tr style=\"text-align: right;\">\n",
       "      <th></th>\n",
       "      <th>Bearer Id</th>\n",
       "      <th>Start</th>\n",
       "      <th>Start ms</th>\n",
       "      <th>End</th>\n",
       "      <th>End ms</th>\n",
       "      <th>Dur. (ms)</th>\n",
       "      <th>IMSI</th>\n",
       "      <th>MSISDN/Number</th>\n",
       "      <th>IMEI</th>\n",
       "      <th>Last Location Name</th>\n",
       "      <th>...</th>\n",
       "      <th>Youtube DL (Bytes)</th>\n",
       "      <th>Youtube UL (Bytes)</th>\n",
       "      <th>Netflix DL (Bytes)</th>\n",
       "      <th>Netflix UL (Bytes)</th>\n",
       "      <th>Gaming DL (Bytes)</th>\n",
       "      <th>Gaming UL (Bytes)</th>\n",
       "      <th>Other DL (Bytes)</th>\n",
       "      <th>Other UL (Bytes)</th>\n",
       "      <th>Total UL (Bytes)</th>\n",
       "      <th>Total DL (Bytes)</th>\n",
       "    </tr>\n",
       "  </thead>\n",
       "  <tbody>\n",
       "    <tr>\n",
       "      <th>0</th>\n",
       "      <td>13114483460844900352</td>\n",
       "      <td>2019-04-04 12:01:18</td>\n",
       "      <td>770.0</td>\n",
       "      <td>2019-04-25 14:35:31</td>\n",
       "      <td>662.0</td>\n",
       "      <td>1823652.0</td>\n",
       "      <td>2.082014e+14</td>\n",
       "      <td>3.366496e+10</td>\n",
       "      <td>3.552121e+13</td>\n",
       "      <td>9164566995485190</td>\n",
       "      <td>...</td>\n",
       "      <td>15854611.0</td>\n",
       "      <td>2501332.0</td>\n",
       "      <td>8198936.0</td>\n",
       "      <td>9656251.0</td>\n",
       "      <td>278082303.0</td>\n",
       "      <td>14344150.0</td>\n",
       "      <td>171744450.0</td>\n",
       "      <td>8814393.0</td>\n",
       "      <td>36749741.0</td>\n",
       "      <td>308879636.0</td>\n",
       "    </tr>\n",
       "    <tr>\n",
       "      <th>1</th>\n",
       "      <td>13114483482878900224</td>\n",
       "      <td>2019-04-09 13:04:04</td>\n",
       "      <td>235.0</td>\n",
       "      <td>2019-04-25 08:15:48</td>\n",
       "      <td>606.0</td>\n",
       "      <td>1365104.0</td>\n",
       "      <td>2.082019e+14</td>\n",
       "      <td>3.368185e+10</td>\n",
       "      <td>3.579401e+13</td>\n",
       "      <td>L77566A</td>\n",
       "      <td>...</td>\n",
       "      <td>20247395.0</td>\n",
       "      <td>19111729.0</td>\n",
       "      <td>18338413.0</td>\n",
       "      <td>17227132.0</td>\n",
       "      <td>608750074.0</td>\n",
       "      <td>1170709.0</td>\n",
       "      <td>526904238.0</td>\n",
       "      <td>15055145.0</td>\n",
       "      <td>53800391.0</td>\n",
       "      <td>653384965.0</td>\n",
       "    </tr>\n",
       "    <tr>\n",
       "      <th>2</th>\n",
       "      <td>13114483484080500736</td>\n",
       "      <td>2019-04-09 17:42:11</td>\n",
       "      <td>1.0</td>\n",
       "      <td>2019-04-25 11:58:13</td>\n",
       "      <td>652.0</td>\n",
       "      <td>1361762.0</td>\n",
       "      <td>2.082003e+14</td>\n",
       "      <td>3.376063e+10</td>\n",
       "      <td>3.528151e+13</td>\n",
       "      <td>D42335A</td>\n",
       "      <td>...</td>\n",
       "      <td>19725661.0</td>\n",
       "      <td>14699576.0</td>\n",
       "      <td>17587794.0</td>\n",
       "      <td>6163408.0</td>\n",
       "      <td>229584621.0</td>\n",
       "      <td>395630.0</td>\n",
       "      <td>410692588.0</td>\n",
       "      <td>4215763.0</td>\n",
       "      <td>27883638.0</td>\n",
       "      <td>279807335.0</td>\n",
       "    </tr>\n",
       "    <tr>\n",
       "      <th>3</th>\n",
       "      <td>13114483485442799616</td>\n",
       "      <td>2019-04-10 00:31:25</td>\n",
       "      <td>486.0</td>\n",
       "      <td>2019-04-25 07:36:35</td>\n",
       "      <td>171.0</td>\n",
       "      <td>1321509.0</td>\n",
       "      <td>2.082014e+14</td>\n",
       "      <td>3.375034e+10</td>\n",
       "      <td>3.535661e+13</td>\n",
       "      <td>T21824A</td>\n",
       "      <td>...</td>\n",
       "      <td>21388122.0</td>\n",
       "      <td>15146643.0</td>\n",
       "      <td>13994646.0</td>\n",
       "      <td>1097942.0</td>\n",
       "      <td>799538153.0</td>\n",
       "      <td>10849722.0</td>\n",
       "      <td>749039933.0</td>\n",
       "      <td>12797283.0</td>\n",
       "      <td>43324218.0</td>\n",
       "      <td>846028530.0</td>\n",
       "    </tr>\n",
       "    <tr>\n",
       "      <th>4</th>\n",
       "      <td>13114483499480700928</td>\n",
       "      <td>2019-04-12 20:10:23</td>\n",
       "      <td>565.0</td>\n",
       "      <td>2019-04-25 10:40:32</td>\n",
       "      <td>954.0</td>\n",
       "      <td>1089009.0</td>\n",
       "      <td>2.082014e+14</td>\n",
       "      <td>3.369980e+10</td>\n",
       "      <td>3.540701e+13</td>\n",
       "      <td>D88865A</td>\n",
       "      <td>...</td>\n",
       "      <td>15259380.0</td>\n",
       "      <td>18962873.0</td>\n",
       "      <td>17124581.0</td>\n",
       "      <td>415218.0</td>\n",
       "      <td>527707248.0</td>\n",
       "      <td>3529801.0</td>\n",
       "      <td>550709500.0</td>\n",
       "      <td>13910322.0</td>\n",
       "      <td>38542814.0</td>\n",
       "      <td>569138589.0</td>\n",
       "    </tr>\n",
       "  </tbody>\n",
       "</table>\n",
       "<p>5 rows × 55 columns</p>\n",
       "</div>"
      ],
      "text/plain": [
       "              Bearer Id               Start  Start ms                 End  \\\n",
       "0  13114483460844900352 2019-04-04 12:01:18     770.0 2019-04-25 14:35:31   \n",
       "1  13114483482878900224 2019-04-09 13:04:04     235.0 2019-04-25 08:15:48   \n",
       "2  13114483484080500736 2019-04-09 17:42:11       1.0 2019-04-25 11:58:13   \n",
       "3  13114483485442799616 2019-04-10 00:31:25     486.0 2019-04-25 07:36:35   \n",
       "4  13114483499480700928 2019-04-12 20:10:23     565.0 2019-04-25 10:40:32   \n",
       "\n",
       "   End ms  Dur. (ms)          IMSI  MSISDN/Number          IMEI  \\\n",
       "0   662.0  1823652.0  2.082014e+14   3.366496e+10  3.552121e+13   \n",
       "1   606.0  1365104.0  2.082019e+14   3.368185e+10  3.579401e+13   \n",
       "2   652.0  1361762.0  2.082003e+14   3.376063e+10  3.528151e+13   \n",
       "3   171.0  1321509.0  2.082014e+14   3.375034e+10  3.535661e+13   \n",
       "4   954.0  1089009.0  2.082014e+14   3.369980e+10  3.540701e+13   \n",
       "\n",
       "  Last Location Name  ...  Youtube DL (Bytes)  Youtube UL (Bytes)  \\\n",
       "0   9164566995485190  ...          15854611.0           2501332.0   \n",
       "1            L77566A  ...          20247395.0          19111729.0   \n",
       "2            D42335A  ...          19725661.0          14699576.0   \n",
       "3            T21824A  ...          21388122.0          15146643.0   \n",
       "4            D88865A  ...          15259380.0          18962873.0   \n",
       "\n",
       "   Netflix DL (Bytes)  Netflix UL (Bytes)  Gaming DL (Bytes)  \\\n",
       "0           8198936.0           9656251.0        278082303.0   \n",
       "1          18338413.0          17227132.0        608750074.0   \n",
       "2          17587794.0           6163408.0        229584621.0   \n",
       "3          13994646.0           1097942.0        799538153.0   \n",
       "4          17124581.0            415218.0        527707248.0   \n",
       "\n",
       "   Gaming UL (Bytes)  Other DL (Bytes)  Other UL (Bytes)  Total UL (Bytes)  \\\n",
       "0         14344150.0       171744450.0         8814393.0        36749741.0   \n",
       "1          1170709.0       526904238.0        15055145.0        53800391.0   \n",
       "2           395630.0       410692588.0         4215763.0        27883638.0   \n",
       "3         10849722.0       749039933.0        12797283.0        43324218.0   \n",
       "4          3529801.0       550709500.0        13910322.0        38542814.0   \n",
       "\n",
       "   Total DL (Bytes)  \n",
       "0       308879636.0  \n",
       "1       653384965.0  \n",
       "2       279807335.0  \n",
       "3       846028530.0  \n",
       "4       569138589.0  \n",
       "\n",
       "[5 rows x 55 columns]"
      ]
     },
     "execution_count": 8,
     "metadata": {},
     "output_type": "execute_result"
    }
   ],
   "source": [
    "# Data glance head():gives the first observations.\n",
    "Telecom_data.head()\n"
   ]
  },
  {
   "cell_type": "markdown",
   "metadata": {},
   "source": [
    "### Checking for missing values"
   ]
  },
  {
   "cell_type": "code",
   "execution_count": 46,
   "metadata": {},
   "outputs": [
    {
     "data": {
      "text/plain": [
       "Bearer Id                                        0\n",
       "Start                                            1\n",
       "Start ms                                         1\n",
       "End                                              1\n",
       "End ms                                           1\n",
       "Dur. (ms)                                        0\n",
       "IMSI                                           570\n",
       "MSISDN/Number                                 1066\n",
       "IMEI                                           572\n",
       "Last Location Name                            1153\n",
       "Avg RTT DL (ms)                              27829\n",
       "Avg RTT UL (ms)                              27812\n",
       "Avg Bearer TP DL (kbps)                          1\n",
       "Avg Bearer TP UL (kbps)                          1\n",
       "TCP DL Retrans. Vol (Bytes)                  88146\n",
       "TCP UL Retrans. Vol (Bytes)                  96649\n",
       "DL TP < 50 Kbps (%)                            754\n",
       "50 Kbps < DL TP < 250 Kbps (%)                 754\n",
       "250 Kbps < DL TP < 1 Mbps (%)                  754\n",
       "DL TP > 1 Mbps (%)                             754\n",
       "UL TP < 10 Kbps (%)                            792\n",
       "10 Kbps < UL TP < 50 Kbps (%)                  792\n",
       "50 Kbps < UL TP < 300 Kbps (%)                 792\n",
       "UL TP > 300 Kbps (%)                           792\n",
       "HTTP DL (Bytes)                              81474\n",
       "HTTP UL (Bytes)                              81810\n",
       "Activity Duration DL (ms)                        1\n",
       "Activity Duration UL (ms)                        1\n",
       "Dur. (ms).1                                      1\n",
       "Handset Manufacturer                             0\n",
       "Handset Type                                     0\n",
       "Nb of sec with 125000B < Vol DL              97538\n",
       "Nb of sec with 1250B < Vol UL < 6250B        92894\n",
       "Nb of sec with 31250B < Vol DL < 125000B     93586\n",
       "Nb of sec with 37500B < Vol UL              130254\n",
       "Nb of sec with 6250B < Vol DL < 31250B       88317\n",
       "Nb of sec with 6250B < Vol UL < 37500B      111843\n",
       "Nb of sec with Vol DL < 6250B                  755\n",
       "Nb of sec with Vol UL < 1250B                  793\n",
       "Social Media DL (Bytes)                          0\n",
       "Social Media UL (Bytes)                          0\n",
       "Google DL (Bytes)                                0\n",
       "Google UL (Bytes)                                0\n",
       "Email DL (Bytes)                                 0\n",
       "Email UL (Bytes)                                 0\n",
       "Youtube DL (Bytes)                               0\n",
       "Youtube UL (Bytes)                               0\n",
       "Netflix DL (Bytes)                               0\n",
       "Netflix UL (Bytes)                               0\n",
       "Gaming DL (Bytes)                                0\n",
       "Gaming UL (Bytes)                                0\n",
       "Other DL (Bytes)                                 0\n",
       "Other UL (Bytes)                                 0\n",
       "Total UL (Bytes)                                 0\n",
       "Total DL (Bytes)                                 0\n",
       "dtype: int64"
      ]
     },
     "execution_count": 46,
     "metadata": {},
     "output_type": "execute_result"
    }
   ],
   "source": [
    "# Any missing values\n",
    "Telecom_data.isnull().sum()"
   ]
  },
  {
   "cell_type": "markdown",
   "metadata": {},
   "source": [
    "#### Unique values."
   ]
  },
  {
   "cell_type": "code",
   "execution_count": 10,
   "metadata": {},
   "outputs": [
    {
     "data": {
      "text/plain": [
       "Bearer Id                                   134709\n",
       "Start                                       111881\n",
       "Start ms                                      1000\n",
       "End                                         100962\n",
       "End ms                                        1000\n",
       "Dur. (ms)                                    89525\n",
       "IMSI                                        107265\n",
       "MSISDN/Number                               106856\n",
       "IMEI                                        107270\n",
       "Last Location Name                           45547\n",
       "Avg RTT DL (ms)                               2130\n",
       "Avg RTT UL (ms)                                722\n",
       "Avg Bearer TP DL (kbps)                      41753\n",
       "Avg Bearer TP UL (kbps)                      14528\n",
       "TCP DL Retrans. Vol (Bytes)                  54399\n",
       "TCP UL Retrans. Vol (Bytes)                  35120\n",
       "DL TP < 50 Kbps (%)                            100\n",
       "50 Kbps < DL TP < 250 Kbps (%)                  84\n",
       "250 Kbps < DL TP < 1 Mbps (%)                   73\n",
       "DL TP > 1 Mbps (%)                              85\n",
       "UL TP < 10 Kbps (%)                             98\n",
       "10 Kbps < UL TP < 50 Kbps (%)                   85\n",
       "50 Kbps < UL TP < 300 Kbps (%)                  68\n",
       "UL TP > 300 Kbps (%)                            63\n",
       "HTTP DL (Bytes)                              63527\n",
       "HTTP UL (Bytes)                              59942\n",
       "Activity Duration DL (ms)                   102560\n",
       "Activity Duration UL (ms)                   106292\n",
       "Dur. (ms).1                                 122871\n",
       "Handset Manufacturer                           170\n",
       "Handset Type                                  1396\n",
       "Nb of sec with 125000B < Vol DL               6458\n",
       "Nb of sec with 1250B < Vol UL < 6250B         3398\n",
       "Nb of sec with 31250B < Vol DL < 125000B      5755\n",
       "Nb of sec with 37500B < Vol UL                1104\n",
       "Nb of sec with 6250B < Vol DL < 31250B        6172\n",
       "Nb of sec with 6250B < Vol UL < 37500B        1710\n",
       "Nb of sec with Vol DL < 6250B                22270\n",
       "Nb of sec with Vol UL < 1250B                22976\n",
       "Social Media DL (Bytes)                     146856\n",
       "Social Media UL (Bytes)                      59078\n",
       "Google DL (Bytes)                           149024\n",
       "Google UL (Bytes)                           147267\n",
       "Email DL (Bytes)                            146916\n",
       "Email UL (Bytes)                            138699\n",
       "Youtube DL (Bytes)                          149547\n",
       "Youtube UL (Bytes)                          149477\n",
       "Netflix DL (Bytes)                          149518\n",
       "Netflix UL (Bytes)                          149490\n",
       "Gaming DL (Bytes)                           149983\n",
       "Gaming UL (Bytes)                           149316\n",
       "Other DL (Bytes)                            149986\n",
       "Other UL (Bytes)                            149284\n",
       "Total UL (Bytes)                            149728\n",
       "Total DL (Bytes)                            149987\n",
       "dtype: int64"
      ]
     },
     "execution_count": 10,
     "metadata": {},
     "output_type": "execute_result"
    }
   ],
   "source": [
    "Telecom_data.nunique()"
   ]
  },
  {
   "cell_type": "markdown",
   "metadata": {},
   "source": [
    "#### Fixing the missing values for the variables of interest.\n",
    "##### Handset type"
   ]
  },
  {
   "cell_type": "code",
   "execution_count": 47,
   "metadata": {},
   "outputs": [
    {
     "data": {
      "text/plain": [
       "0"
      ]
     },
     "execution_count": 47,
     "metadata": {},
     "output_type": "execute_result"
    }
   ],
   "source": [
    "# Checking the most used handset\n",
    "Telecom_data['Handset Type'].value_counts()\n",
    "\n",
    "# Imputing the missing value in 'Handset type' with 'Huawei B528S-23A'\n",
    "Telecom_data['Handset Type'].fillna('Huawei B528S-23A', inplace=True)\n",
    "\n",
    "# Checking if the column 'Handset Type' have any missing values\n",
    "Telecom_data['Handset Type'].isnull().sum()"
   ]
  },
  {
   "cell_type": "markdown",
   "metadata": {},
   "source": [
    "##### Duration of sessions"
   ]
  },
  {
   "cell_type": "code",
   "execution_count": 11,
   "metadata": {},
   "outputs": [
    {
     "data": {
      "text/plain": [
       "0"
      ]
     },
     "execution_count": 11,
     "metadata": {},
     "output_type": "execute_result"
    }
   ],
   "source": [
    "# Computing the mean value for 'Total DL' column\n",
    "Dur_mean_value = Telecom_data['Dur. (ms)'].mean()\n",
    "\n",
    "Telecom_data['Dur. (ms)'].fillna(Dur_mean_value, inplace=True)\n",
    "\n",
    "Telecom_data['Dur. (ms)'].isnull().sum()"
   ]
  },
  {
   "cell_type": "markdown",
   "metadata": {},
   "source": [
    "##### Handset manufacturer"
   ]
  },
  {
   "cell_type": "code",
   "execution_count": 12,
   "metadata": {},
   "outputs": [
    {
     "data": {
      "text/plain": [
       "0"
      ]
     },
     "execution_count": 12,
     "metadata": {},
     "output_type": "execute_result"
    }
   ],
   "source": [
    "# Checking the top  handset manufacturer\n",
    "Telecom_data['Handset Manufacturer'].value_counts()\n",
    "# Imputing the missing value in 'handset manufacturer' with 'Apple'\n",
    "Telecom_data.loc[Telecom_data['Handset Manufacturer'].isnull(), 'Handset Manufacturer'] = 'Apple'\n",
    "# Checking if the column 'handset manufacturer' have any missing values\n",
    "Telecom_data['Handset Manufacturer'].isnull().sum()"
   ]
  },
  {
   "cell_type": "markdown",
   "metadata": {},
   "source": [
    "##### Total UL"
   ]
  },
  {
   "cell_type": "code",
   "execution_count": 13,
   "metadata": {},
   "outputs": [
    {
     "data": {
      "text/plain": [
       "0"
      ]
     },
     "execution_count": 13,
     "metadata": {},
     "output_type": "execute_result"
    }
   ],
   "source": [
    "# Computing the mean value for 'Total UL' column\n",
    "totalUL_mean_value = Telecom_data['Total UL (Bytes)'].mean()\n",
    "\n",
    "Telecom_data['Total UL (Bytes)'].fillna(totalUL_mean_value, inplace=True)\n",
    "\n",
    "Telecom_data['Total UL (Bytes)'].isnull().sum()"
   ]
  },
  {
   "cell_type": "markdown",
   "metadata": {},
   "source": [
    "##### Total DL"
   ]
  },
  {
   "cell_type": "code",
   "execution_count": 14,
   "metadata": {},
   "outputs": [
    {
     "data": {
      "text/plain": [
       "0"
      ]
     },
     "execution_count": 14,
     "metadata": {},
     "output_type": "execute_result"
    }
   ],
   "source": [
    "# Computing the mean value for 'Total DL' column\n",
    "totalDL_mean_value = Telecom_data['Total UL (Bytes)'].mean()\n",
    "\n",
    "Telecom_data['Total DL (Bytes)'].fillna(totalDL_mean_value, inplace=True)\n",
    "\n",
    "Telecom_data['Total DL (Bytes)'].isnull().sum()"
   ]
  },
  {
   "cell_type": "code",
   "execution_count": 15,
   "metadata": {},
   "outputs": [
    {
     "data": {
      "text/plain": [
       "Bearer Id                                        0\n",
       "Start                                            1\n",
       "Start ms                                         1\n",
       "End                                              1\n",
       "End ms                                           1\n",
       "Dur. (ms)                                        0\n",
       "IMSI                                           570\n",
       "MSISDN/Number                                 1066\n",
       "IMEI                                           572\n",
       "Last Location Name                            1153\n",
       "Avg RTT DL (ms)                              27829\n",
       "Avg RTT UL (ms)                              27812\n",
       "Avg Bearer TP DL (kbps)                          1\n",
       "Avg Bearer TP UL (kbps)                          1\n",
       "TCP DL Retrans. Vol (Bytes)                  88146\n",
       "TCP UL Retrans. Vol (Bytes)                  96649\n",
       "DL TP < 50 Kbps (%)                            754\n",
       "50 Kbps < DL TP < 250 Kbps (%)                 754\n",
       "250 Kbps < DL TP < 1 Mbps (%)                  754\n",
       "DL TP > 1 Mbps (%)                             754\n",
       "UL TP < 10 Kbps (%)                            792\n",
       "10 Kbps < UL TP < 50 Kbps (%)                  792\n",
       "50 Kbps < UL TP < 300 Kbps (%)                 792\n",
       "UL TP > 300 Kbps (%)                           792\n",
       "HTTP DL (Bytes)                              81474\n",
       "HTTP UL (Bytes)                              81810\n",
       "Activity Duration DL (ms)                        1\n",
       "Activity Duration UL (ms)                        1\n",
       "Dur. (ms).1                                      1\n",
       "Handset Manufacturer                             0\n",
       "Handset Type                                     0\n",
       "Nb of sec with 125000B < Vol DL              97538\n",
       "Nb of sec with 1250B < Vol UL < 6250B        92894\n",
       "Nb of sec with 31250B < Vol DL < 125000B     93586\n",
       "Nb of sec with 37500B < Vol UL              130254\n",
       "Nb of sec with 6250B < Vol DL < 31250B       88317\n",
       "Nb of sec with 6250B < Vol UL < 37500B      111843\n",
       "Nb of sec with Vol DL < 6250B                  755\n",
       "Nb of sec with Vol UL < 1250B                  793\n",
       "Social Media DL (Bytes)                          0\n",
       "Social Media UL (Bytes)                          0\n",
       "Google DL (Bytes)                                0\n",
       "Google UL (Bytes)                                0\n",
       "Email DL (Bytes)                                 0\n",
       "Email UL (Bytes)                                 0\n",
       "Youtube DL (Bytes)                               0\n",
       "Youtube UL (Bytes)                               0\n",
       "Netflix DL (Bytes)                               0\n",
       "Netflix UL (Bytes)                               0\n",
       "Gaming DL (Bytes)                                0\n",
       "Gaming UL (Bytes)                                0\n",
       "Other DL (Bytes)                                 0\n",
       "Other UL (Bytes)                                 0\n",
       "Total UL (Bytes)                                 0\n",
       "Total DL (Bytes)                                 0\n",
       "dtype: int64"
      ]
     },
     "execution_count": 15,
     "metadata": {},
     "output_type": "execute_result"
    }
   ],
   "source": [
    "## Confirming any missing values after imputation \n",
    "Telecom_data.isnull().sum()"
   ]
  },
  {
   "cell_type": "markdown",
   "metadata": {},
   "source": [
    "#### Detecting outliers.\n",
    "##### Distributions."
   ]
  },
  {
   "cell_type": "code",
   "execution_count": 16,
   "metadata": {},
   "outputs": [
    {
     "data": {
      "image/png": "[encoded data removed]",
      "text/plain": [
       "<Figure size 1080x864 with 10 Axes>"
      ]
     },
     "metadata": {
      "needs_background": "light"
     },
     "output_type": "display_data"
    }
   ],
   "source": [
    "f, ax_arr = plt.subplots(5,2, figsize=(15,12))\n",
    "\n",
    "# Plot 1.1\n",
    "ax_arr[0,0].hist(Telecom_data['Social Media UL (Bytes)'], bins=40, color='c')\n",
    "ax_arr[0,0].set_title('Histogram : Social Media UL (Bytes)')\n",
    "ax_arr[0,0].set_xlabel('Bins')\n",
    "ax_arr[0,0].set_ylabel('Frequency')\n",
    "\n",
    "# Plot 1.2\n",
    "ax_arr[0,1].hist(Telecom_data['Social Media DL (Bytes)'], bins=40, color='skyblue')\n",
    "ax_arr[0,1].set_title('Histogram : Social Media DL (Bytes)')\n",
    "ax_arr[0,1].set_xlabel('Bins')\n",
    "ax_arr[0,1].set_ylabel('Frequency')\n",
    "\n",
    "# Plot 2.1\n",
    "ax_arr[1,0].hist(Telecom_data['Google UL (Bytes)'], bins=40, color='c')\n",
    "ax_arr[1,0].set_title('Histogram : Google UL (Bytes)')\n",
    "ax_arr[1,0].set_xlabel('Bins')\n",
    "ax_arr[1,0].set_ylabel('Frequency')\n",
    "\n",
    "# Plot 2.2\n",
    "ax_arr[1,1].hist(Telecom_data['Google DL (Bytes)'], bins=40, color='skyblue')\n",
    "ax_arr[1,1].set_title('Histogram : Google DL (Bytes)')\n",
    "ax_arr[1,1].set_xlabel('Bins')\n",
    "ax_arr[1,1].set_ylabel('Frequency')\n",
    "\n",
    "# Plot 3.1\n",
    "ax_arr[2,0].hist(Telecom_data['Email UL (Bytes)'], bins=40, color='c')\n",
    "ax_arr[2,0].set_title('Histogram : Email UL (Bytes)')\n",
    "ax_arr[2,0].set_xlabel('Bins')\n",
    "ax_arr[2,0].set_ylabel('Frequency')\n",
    "\n",
    "# Plot 3.2\n",
    "ax_arr[2,1].hist(Telecom_data['Email DL (Bytes)'], bins=40, color='skyblue')\n",
    "ax_arr[2,1].set_title('Histogram : Email DL (Bytes)')\n",
    "ax_arr[2,1].set_xlabel('Bins')\n",
    "ax_arr[2,1].set_ylabel('Frequency')\n",
    "\n",
    "\n",
    "# Plot 4.1\n",
    "ax_arr[3,0].hist(Telecom_data['Youtube UL (Bytes)'], bins=40, color='skyblue')\n",
    "ax_arr[3,0].set_title('Histogram : Youtube UL (Bytes)')\n",
    "ax_arr[3,0].set_xlabel('Bins')\n",
    "ax_arr[3,0].set_ylabel('Frequency')\n",
    "\n",
    "# Plot 4.2\n",
    "ax_arr[3,1].hist(Telecom_data['Youtube DL (Bytes)'], bins=40, color='skyblue')\n",
    "ax_arr[3,1].set_title('Histogram : Youtube DL (Bytes)')\n",
    "ax_arr[3,1].set_xlabel('Bins')\n",
    "ax_arr[3,1].set_ylabel('Frequency')\n",
    "\n",
    "# Plot 5.1\n",
    "ax_arr[4,0].hist(Telecom_data['Gaming DL (Bytes)'], bins=40, color='skyblue')\n",
    "ax_arr[4,0].set_title('Histogram : Gaming DL (Bytes)')\n",
    "ax_arr[4,0].set_xlabel('Bins')\n",
    "ax_arr[4,0].set_ylabel('Frequency')\n",
    "\n",
    "# Plot 5.2\n",
    "ax_arr[4,1].hist(Telecom_data['Gaming UL (Bytes)'], bins=40, color='skyblue')\n",
    "ax_arr[4,1].set_title('Histogram : Gaming UL (Bytes)')\n",
    "ax_arr[4,1].set_xlabel('Bins')\n",
    "ax_arr[4,1].set_ylabel('Frequency')\n",
    "\n",
    "\n",
    "plt.tight_layout()\n",
    "plt.show()"
   ]
  },
  {
   "cell_type": "markdown",
   "metadata": {},
   "source": [
    "#### Conclusion: \n",
    "##### *From the distribution, the variables of interests have minimal outlier's*"
   ]
  },
  {
   "cell_type": "markdown",
   "metadata": {},
   "source": [
    "### *Top Handset Types used*"
   ]
  },
  {
   "cell_type": "code",
   "execution_count": 17,
   "metadata": {},
   "outputs": [],
   "source": [
    "## Getting the top used handets used by the customers\n",
    "Handset_count = Telecom_data['Handset Type'].value_counts()\n"
   ]
  },
  {
   "cell_type": "code",
   "execution_count": 18,
   "metadata": {},
   "outputs": [],
   "source": [
    "### Dropping the undefined handset\n",
    "Handset_count_clean = Telecom_data[Telecom_data[\"Handset Type\"] != 'undefined']\n",
    "\n",
    "Handset_count_clean = Handset_count_clean['Handset Type'].value_counts()[:10]"
   ]
  },
  {
   "cell_type": "code",
   "execution_count": 19,
   "metadata": {},
   "outputs": [
    {
     "data": {
      "text/plain": [
       "Text(0, 0.5, 'Frequency')"
      ]
     },
     "execution_count": 19,
     "metadata": {},
     "output_type": "execute_result"
    },
    {
     "data": {
      "image/png": "[encoded data removed]",
      "text/plain": [
       "<Figure size 576x720 with 1 Axes>"
      ]
     },
     "metadata": {
      "needs_background": "light"
     },
     "output_type": "display_data"
    }
   ],
   "source": [
    "## Visual.\n",
    "ax = Handset_count_clean.plot(kind='barh', figsize=(8, 10), color='#86bf91', zorder=2, width=0.85)\n",
    "# Set x-axis label\n",
    "ax.set_xlabel(\"The Handset type\", labelpad=20, weight='bold', size=12)\n",
    "# Set y-axis label\n",
    "ax.set_ylabel(\"Frequency\", labelpad=20, weight='bold', size=12)"
   ]
  },
  {
   "cell_type": "markdown",
   "metadata": {},
   "source": [
    "### *Top  handset manufacturer*"
   ]
  },
  {
   "cell_type": "code",
   "execution_count": 20,
   "metadata": {},
   "outputs": [],
   "source": [
    "Manufacturer_count = Telecom_data['Handset Manufacturer'].value_counts()"
   ]
  },
  {
   "cell_type": "code",
   "execution_count": 21,
   "metadata": {},
   "outputs": [],
   "source": [
    "### Dropping the undefined handset\n",
    "Manufacturer_count_clean = Telecom_data[Telecom_data[\"Handset Manufacturer\"] != 'undefined']\n",
    "\n",
    "Manufacturer_count_clean = Manufacturer_count_clean['Handset Manufacturer'].value_counts()[:3]"
   ]
  },
  {
   "cell_type": "code",
   "execution_count": 22,
   "metadata": {},
   "outputs": [
    {
     "data": {
      "text/plain": [
       "Text(0, 0.5, 'Number of handsets manufactured')"
      ]
     },
     "execution_count": 22,
     "metadata": {},
     "output_type": "execute_result"
    },
    {
     "data": {
      "image/png": "[encoded data removed]",
      "text/plain": [
       "<Figure size 576x720 with 1 Axes>"
      ]
     },
     "metadata": {
      "needs_background": "light"
     },
     "output_type": "display_data"
    }
   ],
   "source": [
    "ax = Manufacturer_count_clean.plot(kind='bar', figsize=(8, 10), color='#86bf91', zorder=2, width=0.85)\n",
    "# Set x-axis label\n",
    "ax.set_xlabel(\"The manufacturer of Handsets \", labelpad=20, weight='bold', size=12)\n",
    "\n",
    "# Set y-axis label\n",
    "ax.set_ylabel(\"Number of handsets manufactured\", labelpad=20, weight='bold', size=12)"
   ]
  },
  {
   "cell_type": "code",
   "execution_count": 23,
   "metadata": {},
   "outputs": [
    {
     "data": {
      "text/plain": [
       "Handset Manufacturer  Handset Type           \n",
       "Apple                 Apple iPhone 6S (A1688)    9419\n",
       "                      Apple iPhone 6 (A1586)     9023\n",
       "                      Apple iPhone 7 (A1778)     6326\n",
       "                      Apple iPhone Se (A1723)    5187\n",
       "                      Apple iPhone 8 (A1905)     4993\n",
       "                                                 ... \n",
       "Samsung               Samsung Gt-P5220              1\n",
       "                      Samsung Gt-S5280              1\n",
       "                      Samsung Gt-S6310N             1\n",
       "                      Samsung Metro 350             1\n",
       "                      Samsung Sm-T235               1\n",
       "Name: Handset Type, Length: 426, dtype: int64"
      ]
     },
     "execution_count": 23,
     "metadata": {},
     "output_type": "execute_result"
    }
   ],
   "source": [
    "### Picking the top 3 Handset manufacturer's\n",
    "Handset_count_top = Telecom_data[(Telecom_data['Handset Manufacturer']  == 'Apple') |\n",
    "                                 (Telecom_data['Handset Manufacturer']  == 'Samsung') |\n",
    "                                 (Telecom_data['Handset Manufacturer'] == 'Huawei')]\n",
    "Handset_count_top = Handset_count_top.groupby(['Handset Manufacturer'])['Handset Type'].value_counts()\n",
    "Handset_count_top "
   ]
  },
  {
   "cell_type": "markdown",
   "metadata": {},
   "source": [
    "## USER OVERVIEW ANALYSIS"
   ]
  },
  {
   "cell_type": "code",
   "execution_count": 48,
   "metadata": {},
   "outputs": [],
   "source": [
    "## Picking the columns of interest.\n",
    "Telecom_filtered_data = Telecom_data[['Bearer Id','MSISDN/Number','Dur. (ms).1','Handset Manufacturer',\n",
    "       'Handset Type','Total UL (Bytes)', 'Total DL (Bytes)','Social Media DL (Bytes)', 'Social Media UL (Bytes)',\n",
    "       'Google DL (Bytes)', 'Google UL (Bytes)', 'Email DL (Bytes)',\n",
    "       'Email UL (Bytes)', 'Youtube DL (Bytes)', 'Youtube UL (Bytes)',\n",
    "       'Netflix DL (Bytes)', 'Netflix UL (Bytes)', 'Gaming DL (Bytes)',\n",
    "       'Gaming UL (Bytes)', 'Other DL (Bytes)', 'Other UL (Bytes)']]\n"
   ]
  },
  {
   "cell_type": "code",
   "execution_count": 49,
   "metadata": {},
   "outputs": [],
   "source": [
    "#  df = df.rename(columns = {'old column name':'new column name'})\n",
    "\n",
    "Telecom_filtered_data= Telecom_filtered_data.rename(columns = {'Social Media UL (Bytes)' : 'Social_Media_UL',\n",
    "                                                               'Social Media DL (Bytes)' : 'Social_Media_DL',\n",
    "                                                              'Google DL (Bytes)' : 'Google_DL',\n",
    "                                                               'Google UL (Bytes)' : 'Google_UL',\n",
    "                                                              'Email DL (Bytes)' : 'Email_DL',\n",
    "                                                               'Email UL (Bytes)' : 'Email_UL',\n",
    "                                                               'Netflix DL (Bytes)' : 'Netflix_DL',\n",
    "                                                               'Netflix UL (Bytes)' : 'Netflix_UL',\n",
    "                                                               'Gaming DL (Bytes)' : 'Gaming_DL',\n",
    "                                                               'Gaming UL (Bytes)' : 'Gaming_UL',\n",
    "                                                               'Other DL (Bytes)': 'Other_DL',\n",
    "                                                               'Other UL (Bytes)' : 'Other_UL',\n",
    "                                                              'Youtube DL (Bytes)': 'Youtube_DL',\n",
    "                                                               'Youtube UL (Bytes)' : 'Youtube_UL',\n",
    "                                                              'Total UL (Bytes)' :'Total_UL',\n",
    "                                                               'Total DL (Bytes)' :'Total_DL'})"
   ]
  },
  {
   "cell_type": "code",
   "execution_count": 50,
   "metadata": {},
   "outputs": [
    {
     "data": {
      "text/plain": [
       "Bearer Id                  0\n",
       "MSISDN/Number           1066\n",
       "Dur. (ms).1                1\n",
       "Handset Manufacturer       0\n",
       "Handset Type               0\n",
       "Total_UL                   0\n",
       "Total_DL                   0\n",
       "Social_Media_DL            0\n",
       "Social_Media_UL            0\n",
       "Google_DL                  0\n",
       "Google_UL                  0\n",
       "Email_DL                   0\n",
       "Email_UL                   0\n",
       "Youtube_DL                 0\n",
       "Youtube_UL                 0\n",
       "Netflix_DL                 0\n",
       "Netflix_UL                 0\n",
       "Gaming_DL                  0\n",
       "Gaming_UL                  0\n",
       "Other_DL                   0\n",
       "Other_UL                   0\n",
       "dtype: int64"
      ]
     },
     "execution_count": 50,
     "metadata": {},
     "output_type": "execute_result"
    }
   ],
   "source": [
    "## checking for null variables.\n",
    "Telecom_filtered_data.isnull().sum()"
   ]
  },
  {
   "cell_type": "code",
   "execution_count": 51,
   "metadata": {},
   "outputs": [
    {
     "data": {
      "text/plain": [
       "Bearer Id                  0\n",
       "MSISDN/Number           1066\n",
       "Dur. (ms).1                0\n",
       "Handset Manufacturer       0\n",
       "Handset Type               0\n",
       "Total_UL                   0\n",
       "Total_DL                   0\n",
       "Social_Media_DL            0\n",
       "Social_Media_UL            0\n",
       "Google_DL                  0\n",
       "Google_UL                  0\n",
       "Email_DL                   0\n",
       "Email_UL                   0\n",
       "Youtube_DL                 0\n",
       "Youtube_UL                 0\n",
       "Netflix_DL                 0\n",
       "Netflix_UL                 0\n",
       "Gaming_DL                  0\n",
       "Gaming_UL                  0\n",
       "Other_DL                   0\n",
       "Other_UL                   0\n",
       "dtype: int64"
      ]
     },
     "execution_count": 51,
     "metadata": {},
     "output_type": "execute_result"
    }
   ],
   "source": [
    "#Imputing MSISDN/Number with the mean\n",
    "# Computing the mean value for '' column\n",
    "Dur_mean_value = Telecom_filtered_data['Dur. (ms).1'].mean()\n",
    "\n",
    "Telecom_filtered_data['Dur. (ms).1'].fillna(Dur_mean_value, inplace=True)\n",
    "\n",
    "Telecom_filtered_data['Dur. (ms).1'].isnull().sum()\n",
    "\n",
    "#checking for missing values \"all\".\n",
    "Telecom_filtered_data.isnull().sum()"
   ]
  },
  {
   "cell_type": "markdown",
   "metadata": {},
   "source": [
    " #### Since MSISDN/Number is a unique identifier, it is prudent to drop it than impute"
   ]
  },
  {
   "cell_type": "code",
   "execution_count": 52,
   "metadata": {},
   "outputs": [
    {
     "data": {
      "text/plain": [
       "Bearer Id               0\n",
       "MSISDN/Number           0\n",
       "Dur. (ms).1             0\n",
       "Handset Manufacturer    0\n",
       "Handset Type            0\n",
       "Total_UL                0\n",
       "Total_DL                0\n",
       "Social_Media_DL         0\n",
       "Social_Media_UL         0\n",
       "Google_DL               0\n",
       "Google_UL               0\n",
       "Email_DL                0\n",
       "Email_UL                0\n",
       "Youtube_DL              0\n",
       "Youtube_UL              0\n",
       "Netflix_DL              0\n",
       "Netflix_UL              0\n",
       "Gaming_DL               0\n",
       "Gaming_UL               0\n",
       "Other_DL                0\n",
       "Other_UL                0\n",
       "dtype: int64"
      ]
     },
     "execution_count": 52,
     "metadata": {},
     "output_type": "execute_result"
    }
   ],
   "source": [
    "Telecom_filtered_data = Telecom_filtered_data.dropna()\n",
    "Telecom_filtered_data.isnull().sum()"
   ]
  },
  {
   "cell_type": "code",
   "execution_count": 53,
   "metadata": {},
   "outputs": [],
   "source": [
    "Telecom_filtered_data.eval('Total_DV_SocialMedia =  Social_Media_UL + Social_Media_DL',inplace=True)\n",
    "Telecom_filtered_data.eval('Total_DV_Google =  Google_DL  + Google_UL',inplace=True)\n",
    "Telecom_filtered_data.eval('Total_DV_Email =  Email_DL  + Email_UL',inplace=True)\n",
    "Telecom_filtered_data.eval('Total_DV_Youtube =  Youtube_DL  + Youtube_UL',inplace=True)\n",
    "Telecom_filtered_data.eval('Total_DV_Netflix =  Netflix_DL  + Netflix_UL',inplace=True)\n",
    "Telecom_filtered_data.eval('Total_DV_Gaming =  Gaming_DL  + Gaming_UL',inplace=True)\n",
    "Telecom_filtered_data.eval('Total_DV_Other =  Other_UL  + Other_DL ',inplace=True)\n",
    "Telecom_filtered_data.eval('Total_DataVolume =  Total_DL  + Total_UL ',inplace=True)"
   ]
  },
  {
   "cell_type": "markdown",
   "metadata": {},
   "source": [
    "### Data types."
   ]
  },
  {
   "cell_type": "code",
   "execution_count": 54,
   "metadata": {},
   "outputs": [
    {
     "data": {
      "text/plain": [
       "Bearer Id                object\n",
       "MSISDN/Number           float64\n",
       "Dur. (ms).1             float64\n",
       "Handset Manufacturer     object\n",
       "Handset Type             object\n",
       "Total_UL                float64\n",
       "Total_DL                float64\n",
       "Total_DV_SocialMedia    float64\n",
       "Total_DV_Google         float64\n",
       "Total_DV_Email          float64\n",
       "Total_DV_Youtube        float64\n",
       "Total_DV_Netflix        float64\n",
       "Total_DV_Gaming         float64\n",
       "Total_DV_Other          float64\n",
       "Total_DataVolume        float64\n",
       "dtype: object"
      ]
     },
     "execution_count": 54,
     "metadata": {},
     "output_type": "execute_result"
    }
   ],
   "source": [
    "##Picking Variables to work with\n",
    "Telecom_filtered_data_V01 = Telecom_filtered_data[['Bearer Id', 'MSISDN/Number', 'Dur. (ms).1', 'Handset Manufacturer',\n",
    "       'Handset Type', 'Total_UL', 'Total_DL', 'Total_DV_SocialMedia',\n",
    "       'Total_DV_Google', 'Total_DV_Email', 'Total_DV_Youtube',\n",
    "       'Total_DV_Netflix', 'Total_DV_Gaming', 'Total_DV_Other','Total_DataVolume']]\n",
    "Telecom_filtered_data_V01.dtypes"
   ]
  },
  {
   "cell_type": "markdown",
   "metadata": {},
   "source": [
    "#### Aggregate per user for XDR Sessions"
   ]
  },
  {
   "cell_type": "code",
   "execution_count": 55,
   "metadata": {},
   "outputs": [
    {
     "data": {
      "text/html": [
       "<div>\n",
       "<style scoped>\n",
       "    .dataframe tbody tr th:only-of-type {\n",
       "        vertical-align: middle;\n",
       "    }\n",
       "\n",
       "    .dataframe tbody tr th {\n",
       "        vertical-align: top;\n",
       "    }\n",
       "\n",
       "    .dataframe thead th {\n",
       "        text-align: right;\n",
       "    }\n",
       "</style>\n",
       "<table border=\"1\" class=\"dataframe\">\n",
       "  <thead>\n",
       "    <tr style=\"text-align: right;\">\n",
       "      <th></th>\n",
       "      <th>MSISDN/Number</th>\n",
       "      <th>XDR_sessions</th>\n",
       "    </tr>\n",
       "  </thead>\n",
       "  <tbody>\n",
       "    <tr>\n",
       "      <th>0</th>\n",
       "      <td>3.360100e+10</td>\n",
       "      <td>1</td>\n",
       "    </tr>\n",
       "    <tr>\n",
       "      <th>1</th>\n",
       "      <td>3.360100e+10</td>\n",
       "      <td>1</td>\n",
       "    </tr>\n",
       "    <tr>\n",
       "      <th>2</th>\n",
       "      <td>3.360100e+10</td>\n",
       "      <td>1</td>\n",
       "    </tr>\n",
       "    <tr>\n",
       "      <th>3</th>\n",
       "      <td>3.360101e+10</td>\n",
       "      <td>1</td>\n",
       "    </tr>\n",
       "    <tr>\n",
       "      <th>4</th>\n",
       "      <td>3.360101e+10</td>\n",
       "      <td>2</td>\n",
       "    </tr>\n",
       "    <tr>\n",
       "      <th>...</th>\n",
       "      <td>...</td>\n",
       "      <td>...</td>\n",
       "    </tr>\n",
       "    <tr>\n",
       "      <th>106851</th>\n",
       "      <td>3.379000e+10</td>\n",
       "      <td>1</td>\n",
       "    </tr>\n",
       "    <tr>\n",
       "      <th>106852</th>\n",
       "      <td>3.379000e+10</td>\n",
       "      <td>1</td>\n",
       "    </tr>\n",
       "    <tr>\n",
       "      <th>106853</th>\n",
       "      <td>3.197021e+12</td>\n",
       "      <td>1</td>\n",
       "    </tr>\n",
       "    <tr>\n",
       "      <th>106854</th>\n",
       "      <td>3.370000e+14</td>\n",
       "      <td>1</td>\n",
       "    </tr>\n",
       "    <tr>\n",
       "      <th>106855</th>\n",
       "      <td>8.823971e+14</td>\n",
       "      <td>1</td>\n",
       "    </tr>\n",
       "  </tbody>\n",
       "</table>\n",
       "<p>106856 rows × 2 columns</p>\n",
       "</div>"
      ],
      "text/plain": [
       "        MSISDN/Number  XDR_sessions\n",
       "0        3.360100e+10             1\n",
       "1        3.360100e+10             1\n",
       "2        3.360100e+10             1\n",
       "3        3.360101e+10             1\n",
       "4        3.360101e+10             2\n",
       "...               ...           ...\n",
       "106851   3.379000e+10             1\n",
       "106852   3.379000e+10             1\n",
       "106853   3.197021e+12             1\n",
       "106854   3.370000e+14             1\n",
       "106855   8.823971e+14             1\n",
       "\n",
       "[106856 rows x 2 columns]"
      ]
     },
     "execution_count": 55,
     "metadata": {},
     "output_type": "execute_result"
    }
   ],
   "source": [
    "agg_1 = Telecom_filtered_data_V01.groupby(['MSISDN/Number']).agg({'Bearer Id': 'count'})\n",
    "agg_1.columns = ['XDR_sessions']\n",
    "agg_1 = agg_1.reset_index()\n",
    "agg_1"
   ]
  },
  {
   "cell_type": "markdown",
   "metadata": {},
   "source": [
    "#### Aggregate per user for  Session duration"
   ]
  },
  {
   "cell_type": "code",
   "execution_count": 56,
   "metadata": {},
   "outputs": [
    {
     "data": {
      "text/html": [
       "<div>\n",
       "<style scoped>\n",
       "    .dataframe tbody tr th:only-of-type {\n",
       "        vertical-align: middle;\n",
       "    }\n",
       "\n",
       "    .dataframe tbody tr th {\n",
       "        vertical-align: top;\n",
       "    }\n",
       "\n",
       "    .dataframe thead th {\n",
       "        text-align: right;\n",
       "    }\n",
       "</style>\n",
       "<table border=\"1\" class=\"dataframe\">\n",
       "  <thead>\n",
       "    <tr style=\"text-align: right;\">\n",
       "      <th></th>\n",
       "      <th>MSISDN/Number</th>\n",
       "      <th>Session_Duration</th>\n",
       "    </tr>\n",
       "  </thead>\n",
       "  <tbody>\n",
       "    <tr>\n",
       "      <th>0</th>\n",
       "      <td>3.360100e+10</td>\n",
       "      <td>116720140.0</td>\n",
       "    </tr>\n",
       "    <tr>\n",
       "      <th>1</th>\n",
       "      <td>3.360100e+10</td>\n",
       "      <td>181230963.0</td>\n",
       "    </tr>\n",
       "    <tr>\n",
       "      <th>2</th>\n",
       "      <td>3.360100e+10</td>\n",
       "      <td>134969374.0</td>\n",
       "    </tr>\n",
       "    <tr>\n",
       "      <th>3</th>\n",
       "      <td>3.360101e+10</td>\n",
       "      <td>49878024.0</td>\n",
       "    </tr>\n",
       "    <tr>\n",
       "      <th>4</th>\n",
       "      <td>3.360101e+10</td>\n",
       "      <td>37104453.0</td>\n",
       "    </tr>\n",
       "    <tr>\n",
       "      <th>...</th>\n",
       "      <td>...</td>\n",
       "      <td>...</td>\n",
       "    </tr>\n",
       "    <tr>\n",
       "      <th>106851</th>\n",
       "      <td>3.379000e+10</td>\n",
       "      <td>8810688.0</td>\n",
       "    </tr>\n",
       "    <tr>\n",
       "      <th>106852</th>\n",
       "      <td>3.379000e+10</td>\n",
       "      <td>140988659.0</td>\n",
       "    </tr>\n",
       "    <tr>\n",
       "      <th>106853</th>\n",
       "      <td>3.197021e+12</td>\n",
       "      <td>877385325.0</td>\n",
       "    </tr>\n",
       "    <tr>\n",
       "      <th>106854</th>\n",
       "      <td>3.370000e+14</td>\n",
       "      <td>253030201.0</td>\n",
       "    </tr>\n",
       "    <tr>\n",
       "      <th>106855</th>\n",
       "      <td>8.823971e+14</td>\n",
       "      <td>869844200.0</td>\n",
       "    </tr>\n",
       "  </tbody>\n",
       "</table>\n",
       "<p>106856 rows × 2 columns</p>\n",
       "</div>"
      ],
      "text/plain": [
       "        MSISDN/Number  Session_Duration\n",
       "0        3.360100e+10       116720140.0\n",
       "1        3.360100e+10       181230963.0\n",
       "2        3.360100e+10       134969374.0\n",
       "3        3.360101e+10        49878024.0\n",
       "4        3.360101e+10        37104453.0\n",
       "...               ...               ...\n",
       "106851   3.379000e+10         8810688.0\n",
       "106852   3.379000e+10       140988659.0\n",
       "106853   3.197021e+12       877385325.0\n",
       "106854   3.370000e+14       253030201.0\n",
       "106855   8.823971e+14       869844200.0\n",
       "\n",
       "[106856 rows x 2 columns]"
      ]
     },
     "execution_count": 56,
     "metadata": {},
     "output_type": "execute_result"
    }
   ],
   "source": [
    "agg_2 = Telecom_filtered_data_V01.groupby(['MSISDN/Number']).agg({'Dur. (ms).1': [sum]})\n",
    "agg_2.columns = ['Session_Duration']\n",
    "agg_2 = agg_2.reset_index()\n",
    "agg_2"
   ]
  },
  {
   "cell_type": "markdown",
   "metadata": {},
   "source": [
    "### Aggregate per user for the total download (DL) and upload (UL) data"
   ]
  },
  {
   "cell_type": "code",
   "execution_count": 57,
   "metadata": {},
   "outputs": [
    {
     "data": {
      "text/html": [
       "<div>\n",
       "<style scoped>\n",
       "    .dataframe tbody tr th:only-of-type {\n",
       "        vertical-align: middle;\n",
       "    }\n",
       "\n",
       "    .dataframe tbody tr th {\n",
       "        vertical-align: top;\n",
       "    }\n",
       "\n",
       "    .dataframe thead th {\n",
       "        text-align: right;\n",
       "    }\n",
       "</style>\n",
       "<table border=\"1\" class=\"dataframe\">\n",
       "  <thead>\n",
       "    <tr style=\"text-align: right;\">\n",
       "      <th></th>\n",
       "      <th>MSISDN/Number</th>\n",
       "      <th>Total_UL</th>\n",
       "      <th>Total_DL</th>\n",
       "      <th>Total_DataVolume</th>\n",
       "    </tr>\n",
       "  </thead>\n",
       "  <tbody>\n",
       "    <tr>\n",
       "      <th>0</th>\n",
       "      <td>3.360100e+10</td>\n",
       "      <td>36053108.0</td>\n",
       "      <td>8.426375e+08</td>\n",
       "      <td>8.786906e+08</td>\n",
       "    </tr>\n",
       "    <tr>\n",
       "      <th>1</th>\n",
       "      <td>3.360100e+10</td>\n",
       "      <td>36104459.0</td>\n",
       "      <td>1.207552e+08</td>\n",
       "      <td>1.568596e+08</td>\n",
       "    </tr>\n",
       "    <tr>\n",
       "      <th>2</th>\n",
       "      <td>3.360100e+10</td>\n",
       "      <td>39306820.0</td>\n",
       "      <td>5.566597e+08</td>\n",
       "      <td>5.959665e+08</td>\n",
       "    </tr>\n",
       "    <tr>\n",
       "      <th>3</th>\n",
       "      <td>3.360101e+10</td>\n",
       "      <td>20327526.0</td>\n",
       "      <td>4.019932e+08</td>\n",
       "      <td>4.223207e+08</td>\n",
       "    </tr>\n",
       "    <tr>\n",
       "      <th>4</th>\n",
       "      <td>3.360101e+10</td>\n",
       "      <td>94280527.0</td>\n",
       "      <td>1.363130e+09</td>\n",
       "      <td>1.457411e+09</td>\n",
       "    </tr>\n",
       "    <tr>\n",
       "      <th>...</th>\n",
       "      <td>...</td>\n",
       "      <td>...</td>\n",
       "      <td>...</td>\n",
       "      <td>...</td>\n",
       "    </tr>\n",
       "    <tr>\n",
       "      <th>106851</th>\n",
       "      <td>3.379000e+10</td>\n",
       "      <td>26716429.0</td>\n",
       "      <td>6.879252e+08</td>\n",
       "      <td>7.146416e+08</td>\n",
       "    </tr>\n",
       "    <tr>\n",
       "      <th>106852</th>\n",
       "      <td>3.379000e+10</td>\n",
       "      <td>35732243.0</td>\n",
       "      <td>4.445751e+08</td>\n",
       "      <td>4.803073e+08</td>\n",
       "    </tr>\n",
       "    <tr>\n",
       "      <th>106853</th>\n",
       "      <td>3.197021e+12</td>\n",
       "      <td>37295915.0</td>\n",
       "      <td>1.948281e+08</td>\n",
       "      <td>2.321240e+08</td>\n",
       "    </tr>\n",
       "    <tr>\n",
       "      <th>106854</th>\n",
       "      <td>3.370000e+14</td>\n",
       "      <td>56652839.0</td>\n",
       "      <td>5.396350e+08</td>\n",
       "      <td>5.962878e+08</td>\n",
       "    </tr>\n",
       "    <tr>\n",
       "      <th>106855</th>\n",
       "      <td>8.823971e+14</td>\n",
       "      <td>60456049.0</td>\n",
       "      <td>7.869760e+07</td>\n",
       "      <td>1.391536e+08</td>\n",
       "    </tr>\n",
       "  </tbody>\n",
       "</table>\n",
       "<p>106856 rows × 4 columns</p>\n",
       "</div>"
      ],
      "text/plain": [
       "        MSISDN/Number    Total_UL      Total_DL  Total_DataVolume\n",
       "0        3.360100e+10  36053108.0  8.426375e+08      8.786906e+08\n",
       "1        3.360100e+10  36104459.0  1.207552e+08      1.568596e+08\n",
       "2        3.360100e+10  39306820.0  5.566597e+08      5.959665e+08\n",
       "3        3.360101e+10  20327526.0  4.019932e+08      4.223207e+08\n",
       "4        3.360101e+10  94280527.0  1.363130e+09      1.457411e+09\n",
       "...               ...         ...           ...               ...\n",
       "106851   3.379000e+10  26716429.0  6.879252e+08      7.146416e+08\n",
       "106852   3.379000e+10  35732243.0  4.445751e+08      4.803073e+08\n",
       "106853   3.197021e+12  37295915.0  1.948281e+08      2.321240e+08\n",
       "106854   3.370000e+14  56652839.0  5.396350e+08      5.962878e+08\n",
       "106855   8.823971e+14  60456049.0  7.869760e+07      1.391536e+08\n",
       "\n",
       "[106856 rows x 4 columns]"
      ]
     },
     "execution_count": 57,
     "metadata": {},
     "output_type": "execute_result"
    }
   ],
   "source": [
    "agg_3 = Telecom_filtered_data_V01.groupby(['MSISDN/Number']).agg({'Total_UL': [sum],'Total_DL': [sum],'Total_DataVolume': [sum]})\n",
    "agg_3.columns = ['Total_UL','Total_DL','Total_DataVolume']\n",
    "agg_3 = agg_3.reset_index()\n",
    "agg_3"
   ]
  },
  {
   "cell_type": "markdown",
   "metadata": {},
   "source": [
    "### Aggregate per user for the total data volume (in Bytes) during this session for each applications"
   ]
  },
  {
   "cell_type": "code",
   "execution_count": 58,
   "metadata": {},
   "outputs": [
    {
     "data": {
      "text/html": [
       "<div>\n",
       "<style scoped>\n",
       "    .dataframe tbody tr th:only-of-type {\n",
       "        vertical-align: middle;\n",
       "    }\n",
       "\n",
       "    .dataframe tbody tr th {\n",
       "        vertical-align: top;\n",
       "    }\n",
       "\n",
       "    .dataframe thead th {\n",
       "        text-align: right;\n",
       "    }\n",
       "</style>\n",
       "<table border=\"1\" class=\"dataframe\">\n",
       "  <thead>\n",
       "    <tr style=\"text-align: right;\">\n",
       "      <th></th>\n",
       "      <th>MSISDN/Number</th>\n",
       "      <th>Total_DV_SocialMedia</th>\n",
       "      <th>Total_DV_Google</th>\n",
       "      <th>Total_DV_Email</th>\n",
       "      <th>Total_DV_Youtube</th>\n",
       "      <th>Total_DV_Other</th>\n",
       "      <th>Total_DV_Gaming</th>\n",
       "      <th>Total_DV_Netflix</th>\n",
       "    </tr>\n",
       "  </thead>\n",
       "  <tbody>\n",
       "    <tr>\n",
       "      <th>0</th>\n",
       "      <td>3.360100e+10</td>\n",
       "      <td>2232135.0</td>\n",
       "      <td>4389005.0</td>\n",
       "      <td>1331362.0</td>\n",
       "      <td>21624548.0</td>\n",
       "      <td>386570872.0</td>\n",
       "      <td>8.124587e+08</td>\n",
       "      <td>27180981.0</td>\n",
       "    </tr>\n",
       "    <tr>\n",
       "      <th>1</th>\n",
       "      <td>3.360100e+10</td>\n",
       "      <td>2660565.0</td>\n",
       "      <td>5334863.0</td>\n",
       "      <td>3307781.0</td>\n",
       "      <td>12432223.0</td>\n",
       "      <td>281710071.0</td>\n",
       "      <td>1.197501e+08</td>\n",
       "      <td>11221763.0</td>\n",
       "    </tr>\n",
       "    <tr>\n",
       "      <th>2</th>\n",
       "      <td>3.360100e+10</td>\n",
       "      <td>3195623.0</td>\n",
       "      <td>3443126.0</td>\n",
       "      <td>3205380.0</td>\n",
       "      <td>21333570.0</td>\n",
       "      <td>501693672.0</td>\n",
       "      <td>5.388277e+08</td>\n",
       "      <td>19353900.0</td>\n",
       "    </tr>\n",
       "    <tr>\n",
       "      <th>3</th>\n",
       "      <td>3.360101e+10</td>\n",
       "      <td>280294.0</td>\n",
       "      <td>9678493.0</td>\n",
       "      <td>2284670.0</td>\n",
       "      <td>6977321.0</td>\n",
       "      <td>35279702.0</td>\n",
       "      <td>3.911261e+08</td>\n",
       "      <td>1942092.0</td>\n",
       "    </tr>\n",
       "    <tr>\n",
       "      <th>4</th>\n",
       "      <td>3.360101e+10</td>\n",
       "      <td>2912542.0</td>\n",
       "      <td>18499616.0</td>\n",
       "      <td>3305469.0</td>\n",
       "      <td>41533002.0</td>\n",
       "      <td>804804484.0</td>\n",
       "      <td>1.314798e+09</td>\n",
       "      <td>49201724.0</td>\n",
       "    </tr>\n",
       "    <tr>\n",
       "      <th>...</th>\n",
       "      <td>...</td>\n",
       "      <td>...</td>\n",
       "      <td>...</td>\n",
       "      <td>...</td>\n",
       "      <td>...</td>\n",
       "      <td>...</td>\n",
       "      <td>...</td>\n",
       "      <td>...</td>\n",
       "    </tr>\n",
       "    <tr>\n",
       "      <th>106851</th>\n",
       "      <td>3.379000e+10</td>\n",
       "      <td>300183.0</td>\n",
       "      <td>7531269.0</td>\n",
       "      <td>1006915.0</td>\n",
       "      <td>26647843.0</td>\n",
       "      <td>295282817.0</td>\n",
       "      <td>6.603614e+08</td>\n",
       "      <td>14902538.0</td>\n",
       "    </tr>\n",
       "    <tr>\n",
       "      <th>106852</th>\n",
       "      <td>3.379000e+10</td>\n",
       "      <td>498569.0</td>\n",
       "      <td>5429705.0</td>\n",
       "      <td>2514097.0</td>\n",
       "      <td>19851572.0</td>\n",
       "      <td>211115113.0</td>\n",
       "      <td>4.370033e+08</td>\n",
       "      <td>8531060.0</td>\n",
       "    </tr>\n",
       "    <tr>\n",
       "      <th>106853</th>\n",
       "      <td>3.197021e+12</td>\n",
       "      <td>715224.0</td>\n",
       "      <td>10438660.0</td>\n",
       "      <td>1520771.0</td>\n",
       "      <td>11959905.0</td>\n",
       "      <td>470526473.0</td>\n",
       "      <td>1.780487e+08</td>\n",
       "      <td>26592300.0</td>\n",
       "    </tr>\n",
       "    <tr>\n",
       "      <th>106854</th>\n",
       "      <td>3.370000e+14</td>\n",
       "      <td>521566.0</td>\n",
       "      <td>9830617.0</td>\n",
       "      <td>3318582.0</td>\n",
       "      <td>36734940.0</td>\n",
       "      <td>149188439.0</td>\n",
       "      <td>5.101427e+08</td>\n",
       "      <td>30905042.0</td>\n",
       "    </tr>\n",
       "    <tr>\n",
       "      <th>106855</th>\n",
       "      <td>8.823971e+14</td>\n",
       "      <td>1546088.0</td>\n",
       "      <td>9218647.0</td>\n",
       "      <td>3330974.0</td>\n",
       "      <td>40940710.0</td>\n",
       "      <td>401360457.0</td>\n",
       "      <td>4.307026e+07</td>\n",
       "      <td>28846230.0</td>\n",
       "    </tr>\n",
       "  </tbody>\n",
       "</table>\n",
       "<p>106856 rows × 8 columns</p>\n",
       "</div>"
      ],
      "text/plain": [
       "        MSISDN/Number  Total_DV_SocialMedia  Total_DV_Google  Total_DV_Email  \\\n",
       "0        3.360100e+10             2232135.0        4389005.0       1331362.0   \n",
       "1        3.360100e+10             2660565.0        5334863.0       3307781.0   \n",
       "2        3.360100e+10             3195623.0        3443126.0       3205380.0   \n",
       "3        3.360101e+10              280294.0        9678493.0       2284670.0   \n",
       "4        3.360101e+10             2912542.0       18499616.0       3305469.0   \n",
       "...               ...                   ...              ...             ...   \n",
       "106851   3.379000e+10              300183.0        7531269.0       1006915.0   \n",
       "106852   3.379000e+10              498569.0        5429705.0       2514097.0   \n",
       "106853   3.197021e+12              715224.0       10438660.0       1520771.0   \n",
       "106854   3.370000e+14              521566.0        9830617.0       3318582.0   \n",
       "106855   8.823971e+14             1546088.0        9218647.0       3330974.0   \n",
       "\n",
       "        Total_DV_Youtube  Total_DV_Other  Total_DV_Gaming  Total_DV_Netflix  \n",
       "0             21624548.0     386570872.0     8.124587e+08        27180981.0  \n",
       "1             12432223.0     281710071.0     1.197501e+08        11221763.0  \n",
       "2             21333570.0     501693672.0     5.388277e+08        19353900.0  \n",
       "3              6977321.0      35279702.0     3.911261e+08         1942092.0  \n",
       "4             41533002.0     804804484.0     1.314798e+09        49201724.0  \n",
       "...                  ...             ...              ...               ...  \n",
       "106851        26647843.0     295282817.0     6.603614e+08        14902538.0  \n",
       "106852        19851572.0     211115113.0     4.370033e+08         8531060.0  \n",
       "106853        11959905.0     470526473.0     1.780487e+08        26592300.0  \n",
       "106854        36734940.0     149188439.0     5.101427e+08        30905042.0  \n",
       "106855        40940710.0     401360457.0     4.307026e+07        28846230.0  \n",
       "\n",
       "[106856 rows x 8 columns]"
      ]
     },
     "execution_count": 58,
     "metadata": {},
     "output_type": "execute_result"
    }
   ],
   "source": [
    "agg_4 = Telecom_filtered_data_V01.groupby(['MSISDN/Number']).agg({'Total_DV_SocialMedia': [sum],'Total_DV_Google': [sum],\n",
    "                                                     'Total_DV_Email': [sum],'Total_DV_Youtube': [sum],\n",
    "                                                      'Total_DV_Other': [sum],'Total_DV_Gaming': [sum],\n",
    "                                                      'Total_DV_Netflix': [sum]})\n",
    "agg_4.columns = ['Total_DV_SocialMedia','Total_DV_Google','Total_DV_Email','Total_DV_Youtube','Total_DV_Other','Total_DV_Gaming','Total_DV_Netflix']\n",
    "agg_4 = agg_4.reset_index()\n",
    "agg_4                                                   "
   ]
  },
  {
   "cell_type": "markdown",
   "metadata": {},
   "source": [
    "### Merging the dataframes."
   ]
  },
  {
   "cell_type": "code",
   "execution_count": 75,
   "metadata": {},
   "outputs": [
    {
     "data": {
      "text/plain": [
       "Index(['MSISDN/Number', 'XDR_sessions', 'Session_Duration', 'Total_UL',\n",
       "       'Total_DL', 'Total_DataVolume', 'Total_DV_SocialMedia',\n",
       "       'Total_DV_Google', 'Total_DV_Email', 'Total_DV_Youtube',\n",
       "       'Total_DV_Other', 'Total_DV_Gaming', 'Total_DV_Netflix'],\n",
       "      dtype='object')"
      ]
     },
     "execution_count": 75,
     "metadata": {},
     "output_type": "execute_result"
    }
   ],
   "source": [
    "Telecom_filtered_data_merge = pd.merge(agg_1, agg_2, on='MSISDN/Number')\n",
    "Telecom_filtered_data_merge_1 = pd.merge(Telecom_filtered_data_merge,agg_3,on='MSISDN/Number')\n",
    "Telecom_filtered_data_merge_V01 = pd.merge(Telecom_filtered_data_merge_1,agg_4,on='MSISDN/Number')\n",
    "Telecom_filtered_data_merge_V01"
   ]
  },
  {
   "cell_type": "markdown",
   "metadata": {},
   "source": [
    "## Non-Graphical Exploratory data analysis.\n",
    "\n",
    "#### Descriptive statistics."
   ]
  },
  {
   "cell_type": "code",
   "execution_count": 78,
   "metadata": {},
   "outputs": [],
   "source": [
    "#!pip install dataframe_image\n",
    "import dataframe_image as dfi\n",
    "Telecom_filtered_data_merge_V02 =Telecom_filtered_data_merge_V01[['XDR_sessions', 'Session_Duration', 'Total_UL',\n",
    "       'Total_DL', 'Total_DV_SocialMedia',\n",
    "       'Total_DV_Google', 'Total_DV_Email', 'Total_DV_Youtube', 'Total_DV_Gaming', 'Total_DV_Netflix']]\n",
    "Descriptive_statistics = Telecom_filtered_data_merge_V02.describe(include=\"all\")\n",
    "Descriptive_statistics = pd.DataFrame(Descriptive_statistics)\n",
    "dfi.export(Descriptive_statistics, 'Descriptive_statistics.png')"
   ]
  },
  {
   "cell_type": "code",
   "execution_count": 61,
   "metadata": {},
   "outputs": [],
   "source": [
    "## Number of sessions.\n",
    "Sessions = Telecom_filtered_data_merge_V01[\"XDR_sessions\"].describe()\n",
    "Sessions = pd.DataFrame(Sessions)\n",
    "dfi.export(Sessions, 'XDR_sessions.png')\n"
   ]
  },
  {
   "cell_type": "code",
   "execution_count": 62,
   "metadata": {},
   "outputs": [],
   "source": [
    "##Duration\n",
    "Duration = Telecom_filtered_data_merge_V01[\"Session_Duration\"].describe()\n",
    "Duration = pd.DataFrame(Duration)\n",
    "dfi.export(Duration, 'Session_Duration.png')"
   ]
  },
  {
   "cell_type": "code",
   "execution_count": 63,
   "metadata": {},
   "outputs": [],
   "source": [
    "##Total_upload\n",
    "Total_upload = Telecom_filtered_data_merge_V01[\"Total_UL\"].describe()\n",
    "Total_upload = pd.DataFrame(Total_upload)\n",
    "dfi.export(Total_upload, 'Total_upload.png')"
   ]
  },
  {
   "cell_type": "code",
   "execution_count": 64,
   "metadata": {},
   "outputs": [],
   "source": [
    "##Total_download\n",
    "Total_download = Telecom_filtered_data_merge_V01[\"Total_DL\"].describe()\n",
    "Total_download = pd.DataFrame(Total_download)\n",
    "dfi.export(Total_download, 'Total_download.png')"
   ]
  },
  {
   "cell_type": "code",
   "execution_count": 65,
   "metadata": {},
   "outputs": [],
   "source": [
    "##Total_socialmedia\n",
    "Total_socialmedia = Telecom_filtered_data_merge_V01[\"Total_DV_SocialMedia\"].describe()\n",
    "Total_socialmedia = pd.DataFrame(Total_socialmedia)\n",
    "dfi.export(Total_socialmedia, 'Total_socialmedia.png')"
   ]
  },
  {
   "cell_type": "code",
   "execution_count": 66,
   "metadata": {},
   "outputs": [],
   "source": [
    "##Total_google\n",
    "Total_google = Telecom_filtered_data_merge_V01[\"Total_DV_Google\"].describe()\n",
    "Total_google  = pd.DataFrame(Total_google)\n",
    "dfi.export(Total_google, 'Total_google.png')"
   ]
  },
  {
   "cell_type": "code",
   "execution_count": 67,
   "metadata": {},
   "outputs": [],
   "source": [
    "##Total_email\n",
    "Total_email = Telecom_filtered_data_merge_V01[\"Total_DV_Email\"].describe()\n",
    "Total_email  = pd.DataFrame(Total_email)\n",
    "dfi.export(Total_email, 'Total_email.png')"
   ]
  },
  {
   "cell_type": "code",
   "execution_count": 68,
   "metadata": {},
   "outputs": [],
   "source": [
    "##Total_youtube\n",
    "Total_youtube = Telecom_filtered_data_merge_V01[\"Total_DV_Youtube\"].describe()\n",
    "Total_youtube  = pd.DataFrame(Total_youtube)\n",
    "dfi.export(Total_youtube, 'Total_youtube.png')"
   ]
  },
  {
   "cell_type": "code",
   "execution_count": 69,
   "metadata": {},
   "outputs": [],
   "source": [
    "##Total_gaming\n",
    "Total_gaming = Telecom_filtered_data_merge_V01[\"Total_DV_Gaming\"].describe()\n",
    "Total_gaming  = pd.DataFrame(Total_gaming)\n",
    "dfi.export(Total_gaming, 'Total_gaming.png')"
   ]
  },
  {
   "cell_type": "code",
   "execution_count": 70,
   "metadata": {},
   "outputs": [],
   "source": [
    "##Total_netflix\n",
    "Total_netflix = Telecom_filtered_data_merge_V01[\"Total_DV_Netflix\"].describe()\n",
    "Total_netflix  = pd.DataFrame(Total_netflix)\n",
    "dfi.export(Total_netflix, 'Total_netflix.png')"
   ]
  },
  {
   "cell_type": "markdown",
   "metadata": {},
   "source": [
    "#### Measures of Central Tendency;\n",
    "##### Mean: The average of all data points\n",
    "##### Median: The data point where half of the data lies above and half below it"
   ]
  },
  {
   "cell_type": "code",
   "execution_count": 71,
   "metadata": {},
   "outputs": [
    {
     "data": {
      "text/html": [
       "<div>\n",
       "<style scoped>\n",
       "    .dataframe tbody tr th:only-of-type {\n",
       "        vertical-align: middle;\n",
       "    }\n",
       "\n",
       "    .dataframe tbody tr th {\n",
       "        vertical-align: top;\n",
       "    }\n",
       "\n",
       "    .dataframe thead th {\n",
       "        text-align: right;\n",
       "    }\n",
       "</style>\n",
       "<table border=\"1\" class=\"dataframe\">\n",
       "  <thead>\n",
       "    <tr style=\"text-align: right;\">\n",
       "      <th></th>\n",
       "      <th>Session_Duration</th>\n",
       "      <th>XDR_sessions</th>\n",
       "      <th>Total_UL</th>\n",
       "      <th>Total_DL</th>\n",
       "      <th>Total_DV_SocialMedia</th>\n",
       "      <th>Total_DV_Google</th>\n",
       "      <th>Total_DV_Email</th>\n",
       "      <th>Total_DV_Youtube</th>\n",
       "      <th>Total_DV_Other</th>\n",
       "      <th>Total_DV_Gaming</th>\n",
       "      <th>Total_DV_Netflix</th>\n",
       "    </tr>\n",
       "  </thead>\n",
       "  <tbody>\n",
       "    <tr>\n",
       "      <th>min</th>\n",
       "      <td>7.142988e+06</td>\n",
       "      <td>1.000000</td>\n",
       "      <td>2.866892e+06</td>\n",
       "      <td>8.827082e+06</td>\n",
       "      <td>1.563000e+03</td>\n",
       "      <td>4.033000e+04</td>\n",
       "      <td>1.817600e+04</td>\n",
       "      <td>7.890300e+04</td>\n",
       "      <td>1.490450e+05</td>\n",
       "      <td>3.063580e+05</td>\n",
       "      <td>1.845690e+05</td>\n",
       "    </tr>\n",
       "    <tr>\n",
       "      <th>max</th>\n",
       "      <td>1.855376e+10</td>\n",
       "      <td>18.000000</td>\n",
       "      <td>7.295774e+08</td>\n",
       "      <td>8.156743e+09</td>\n",
       "      <td>4.337478e+07</td>\n",
       "      <td>1.521919e+08</td>\n",
       "      <td>4.241878e+07</td>\n",
       "      <td>4.529588e+08</td>\n",
       "      <td>8.167878e+09</td>\n",
       "      <td>7.749432e+09</td>\n",
       "      <td>3.995191e+08</td>\n",
       "    </tr>\n",
       "    <tr>\n",
       "      <th>mean</th>\n",
       "      <td>1.461679e+08</td>\n",
       "      <td>1.393792</td>\n",
       "      <td>5.730942e+07</td>\n",
       "      <td>6.336527e+08</td>\n",
       "      <td>2.547967e+06</td>\n",
       "      <td>1.088243e+07</td>\n",
       "      <td>3.148796e+06</td>\n",
       "      <td>3.155840e+07</td>\n",
       "      <td>5.985088e+08</td>\n",
       "      <td>5.997690e+08</td>\n",
       "      <td>3.153833e+07</td>\n",
       "    </tr>\n",
       "    <tr>\n",
       "      <th>median</th>\n",
       "      <td>1.027402e+08</td>\n",
       "      <td>1.000000</td>\n",
       "      <td>4.679387e+07</td>\n",
       "      <td>5.703677e+08</td>\n",
       "      <td>2.303756e+06</td>\n",
       "      <td>9.586153e+06</td>\n",
       "      <td>2.799824e+06</td>\n",
       "      <td>2.680038e+07</td>\n",
       "      <td>5.398323e+08</td>\n",
       "      <td>5.423492e+08</td>\n",
       "      <td>2.671889e+07</td>\n",
       "    </tr>\n",
       "  </tbody>\n",
       "</table>\n",
       "</div>"
      ],
      "text/plain": [
       "        Session_Duration  XDR_sessions      Total_UL      Total_DL  \\\n",
       "min         7.142988e+06      1.000000  2.866892e+06  8.827082e+06   \n",
       "max         1.855376e+10     18.000000  7.295774e+08  8.156743e+09   \n",
       "mean        1.461679e+08      1.393792  5.730942e+07  6.336527e+08   \n",
       "median      1.027402e+08      1.000000  4.679387e+07  5.703677e+08   \n",
       "\n",
       "        Total_DV_SocialMedia  Total_DV_Google  Total_DV_Email  \\\n",
       "min             1.563000e+03     4.033000e+04    1.817600e+04   \n",
       "max             4.337478e+07     1.521919e+08    4.241878e+07   \n",
       "mean            2.547967e+06     1.088243e+07    3.148796e+06   \n",
       "median          2.303756e+06     9.586153e+06    2.799824e+06   \n",
       "\n",
       "        Total_DV_Youtube  Total_DV_Other  Total_DV_Gaming  Total_DV_Netflix  \n",
       "min         7.890300e+04    1.490450e+05     3.063580e+05      1.845690e+05  \n",
       "max         4.529588e+08    8.167878e+09     7.749432e+09      3.995191e+08  \n",
       "mean        3.155840e+07    5.985088e+08     5.997690e+08      3.153833e+07  \n",
       "median      2.680038e+07    5.398323e+08     5.423492e+08      2.671889e+07  "
      ]
     },
     "execution_count": 71,
     "metadata": {},
     "output_type": "execute_result"
    }
   ],
   "source": [
    "\n",
    "Telecom_filtered_data_merge_V01.agg({'Session_Duration': [min,max,'mean','median'],\"XDR_sessions\":[min,max,'mean','median'],\n",
    "                           'Total_UL': [min,max,'mean','median'],'Total_DL': [min,max,'mean','median'],\n",
    "                           'Total_DV_SocialMedia': [min,max,'mean','median'],'Total_DV_Google': [min,max,'mean','median'],\n",
    "                            'Total_DV_Email': [min,max,'mean','median'],'Total_DV_Youtube': [min,max,'mean','median'],\n",
    "                            'Total_DV_Other': [min,max,'mean','median'],'Total_DV_Gaming': [min,max,'mean','median'],\n",
    "                           'Total_DV_Netflix': [min,max,'mean','median']})#.unstack()"
   ]
  },
  {
   "cell_type": "markdown",
   "metadata": {},
   "source": [
    "### Measure of spread\n",
    "\n",
    "\n",
    "##### Variance(var) is the mean of the squares of the deviations.\n",
    "##### Standard deviation(std) is the square root of the variance\n",
    "##### Mean Absolute Deviation(mad) is the arithmetic mean of the absolute values of the deviations."
   ]
  },
  {
   "cell_type": "code",
   "execution_count": 72,
   "metadata": {},
   "outputs": [
    {
     "data": {
      "text/html": [
       "<div>\n",
       "<style scoped>\n",
       "    .dataframe tbody tr th:only-of-type {\n",
       "        vertical-align: middle;\n",
       "    }\n",
       "\n",
       "    .dataframe tbody tr th {\n",
       "        vertical-align: top;\n",
       "    }\n",
       "\n",
       "    .dataframe thead th {\n",
       "        text-align: right;\n",
       "    }\n",
       "</style>\n",
       "<table border=\"1\" class=\"dataframe\">\n",
       "  <thead>\n",
       "    <tr style=\"text-align: right;\">\n",
       "      <th></th>\n",
       "      <th>Session_Duration</th>\n",
       "      <th>XDR_sessions</th>\n",
       "      <th>Total_UL</th>\n",
       "      <th>Total_DL</th>\n",
       "      <th>Total_DV_SocialMedia</th>\n",
       "      <th>Total_DV_Google</th>\n",
       "      <th>Total_DV_Email</th>\n",
       "      <th>Total_DV_Youtube</th>\n",
       "      <th>Total_DV_Other</th>\n",
       "      <th>Total_DV_Gaming</th>\n",
       "      <th>Total_DV_Netflix</th>\n",
       "    </tr>\n",
       "  </thead>\n",
       "  <tbody>\n",
       "    <tr>\n",
       "      <th>std</th>\n",
       "      <td>1.863590e+08</td>\n",
       "      <td>0.806022</td>\n",
       "      <td>3.565765e+07</td>\n",
       "      <td>4.645551e+08</td>\n",
       "      <td>1.908038e+06</td>\n",
       "      <td>7.544861e+06</td>\n",
       "      <td>2.222400e+06</td>\n",
       "      <td>2.129492e+07</td>\n",
       "      <td>4.489221e+08</td>\n",
       "      <td>4.491505e+08</td>\n",
       "      <td>2.128956e+07</td>\n",
       "    </tr>\n",
       "    <tr>\n",
       "      <th>var</th>\n",
       "      <td>3.472966e+16</td>\n",
       "      <td>0.649671</td>\n",
       "      <td>1.271468e+15</td>\n",
       "      <td>2.158114e+17</td>\n",
       "      <td>3.640609e+12</td>\n",
       "      <td>5.692493e+13</td>\n",
       "      <td>4.939062e+12</td>\n",
       "      <td>4.534735e+14</td>\n",
       "      <td>2.015311e+17</td>\n",
       "      <td>2.017361e+17</td>\n",
       "      <td>4.532452e+14</td>\n",
       "    </tr>\n",
       "    <tr>\n",
       "      <th>mad</th>\n",
       "      <td>9.037168e+07</td>\n",
       "      <td>0.572917</td>\n",
       "      <td>2.420097e+07</td>\n",
       "      <td>3.280408e+08</td>\n",
       "      <td>1.362683e+06</td>\n",
       "      <td>5.193563e+06</td>\n",
       "      <td>1.534227e+06</td>\n",
       "      <td>1.457490e+07</td>\n",
       "      <td>3.203485e+08</td>\n",
       "      <td>3.196993e+08</td>\n",
       "      <td>1.463285e+07</td>\n",
       "    </tr>\n",
       "  </tbody>\n",
       "</table>\n",
       "</div>"
      ],
      "text/plain": [
       "     Session_Duration  XDR_sessions      Total_UL      Total_DL  \\\n",
       "std      1.863590e+08      0.806022  3.565765e+07  4.645551e+08   \n",
       "var      3.472966e+16      0.649671  1.271468e+15  2.158114e+17   \n",
       "mad      9.037168e+07      0.572917  2.420097e+07  3.280408e+08   \n",
       "\n",
       "     Total_DV_SocialMedia  Total_DV_Google  Total_DV_Email  Total_DV_Youtube  \\\n",
       "std          1.908038e+06     7.544861e+06    2.222400e+06      2.129492e+07   \n",
       "var          3.640609e+12     5.692493e+13    4.939062e+12      4.534735e+14   \n",
       "mad          1.362683e+06     5.193563e+06    1.534227e+06      1.457490e+07   \n",
       "\n",
       "     Total_DV_Other  Total_DV_Gaming  Total_DV_Netflix  \n",
       "std    4.489221e+08     4.491505e+08      2.128956e+07  \n",
       "var    2.015311e+17     2.017361e+17      4.532452e+14  \n",
       "mad    3.203485e+08     3.196993e+08      1.463285e+07  "
      ]
     },
     "execution_count": 72,
     "metadata": {},
     "output_type": "execute_result"
    }
   ],
   "source": [
    "Telecom_filtered_data_merge_V01.agg({'Session_Duration': ['std','var','mad'],'XDR_sessions': ['std','var','mad'],\n",
    "                           'Total_UL': ['std','var','mad'],\n",
    "                                        'Total_DL': ['std','var','mad'],\n",
    "                           'Total_DV_SocialMedia': ['std','var','mad'],'Total_DV_Google': ['std','var','mad'],\n",
    "                            'Total_DV_Email': ['std','var','mad'],'Total_DV_Youtube': ['std','var','mad'],\n",
    "                            'Total_DV_Other': ['std','var','mad'],'Total_DV_Gaming': ['std','var','mad'],\n",
    "                           'Total_DV_Netflix': ['std','var','mad']})#.unstack() "
   ]
  },
  {
   "cell_type": "markdown",
   "metadata": {},
   "source": [
    "#### Graphical Univariate Analysis"
   ]
  },
  {
   "cell_type": "markdown",
   "metadata": {},
   "source": [
    "### Variable:Session's duration."
   ]
  },
  {
   "cell_type": "code",
   "execution_count": 87,
   "metadata": {},
   "outputs": [
    {
     "data": {
      "image/png": "[encoded data removed]",
      "text/plain": [
       "<Figure size 648x360 with 1 Axes>"
      ]
     },
     "metadata": {
      "needs_background": "light"
     },
     "output_type": "display_data"
    }
   ],
   "source": [
    "plt.figure(figsize=(9,5))\n",
    "ax = sns.distplot(Telecom_filtered_data_merge_V01['Session_Duration'],bins = 20)\n",
    "ax.set(xlabel=\"Duration in ms\", ylabel = \"Frequency\")\n",
    "plt.title('A histogram of the sessions duration')\n",
    "plt.savefig(\"sessions duration image.png\")\n",
    "plt.show()"
   ]
  },
  {
   "cell_type": "markdown",
   "metadata": {},
   "source": [
    "### XDR Sessions"
   ]
  },
  {
   "cell_type": "code",
   "execution_count": 88,
   "metadata": {},
   "outputs": [
    {
     "data": {
      "image/png": "[encoded data removed]",
      "text/plain": [
       "<Figure size 648x360 with 1 Axes>"
      ]
     },
     "metadata": {
      "needs_background": "light"
     },
     "output_type": "display_data"
    }
   ],
   "source": [
    "plt.figure(figsize=(9,5))\n",
    "ax = sns.distplot(Telecom_filtered_data_merge_V01['XDR_sessions'],bins = 20)\n",
    "ax.set(xlabel=\"Number of sessions\", ylabel = \"Frequency\")\n",
    "plt.title('A histogram of the sessions ')\n",
    "plt.savefig(\"XDR sessions image.png\")\n",
    "plt.show()"
   ]
  },
  {
   "cell_type": "markdown",
   "metadata": {},
   "source": [
    "#### Total Upload (DL) in bytes"
   ]
  },
  {
   "cell_type": "code",
   "execution_count": 89,
   "metadata": {},
   "outputs": [
    {
     "data": {
      "image/png": "[encoded data removed]",
      "text/plain": [
       "<Figure size 720x360 with 1 Axes>"
      ]
     },
     "metadata": {
      "needs_background": "light"
     },
     "output_type": "display_data"
    }
   ],
   "source": [
    "#plt.figure(figsize=(15,5))\n",
    "#plt.hist(Telecom_filtered_data_V01['Dur. (ms)'],bins = 100)\n",
    "#plt.show()\n",
    "plt.figure(figsize=(10,5))\n",
    "ax = sns.distplot(Telecom_filtered_data_merge_V01['Total_UL'],bins = 20)\n",
    "ax.set(xlabel=\"Total UL (Bytes)\", ylabel = \"Frequency\")\n",
    "plt.title('A histogram of Total Upload Data volume(Bytes)')\n",
    "plt.savefig(\"Total Upload Data volume(Bytes).png\")\n",
    "plt.show()"
   ]
  },
  {
   "cell_type": "markdown",
   "metadata": {},
   "source": [
    "### Total Download (DL) in bytes"
   ]
  },
  {
   "cell_type": "code",
   "execution_count": 90,
   "metadata": {},
   "outputs": [
    {
     "data": {
      "image/png": "[encoded data removed]",
      "text/plain": [
       "<Figure size 720x360 with 1 Axes>"
      ]
     },
     "metadata": {
      "needs_background": "light"
     },
     "output_type": "display_data"
    }
   ],
   "source": [
    "plt.figure(figsize=(10,5))\n",
    "ax = sns.distplot(Telecom_filtered_data_merge_V01['Total_DL'],bins = 20)\n",
    "ax.set(xlabel=\"Total DL (Bytes)\", ylabel = \"Frequency\")\n",
    "plt.title('A histogram of Total download Data volume(Bytes)')\n",
    "plt.savefig(\"Total download Data volume(Bytes).png\")\n",
    "plt.show()"
   ]
  },
  {
   "cell_type": "markdown",
   "metadata": {},
   "source": [
    "### Total Social Media (Data Volume) in bytes"
   ]
  },
  {
   "cell_type": "code",
   "execution_count": 93,
   "metadata": {},
   "outputs": [
    {
     "data": {
      "image/png": "[encoded data removed]",
      "text/plain": [
       "<Figure size 648x360 with 1 Axes>"
      ]
     },
     "metadata": {
      "needs_background": "light"
     },
     "output_type": "display_data"
    }
   ],
   "source": [
    "plt.figure(figsize=(9,5))\n",
    "ax = sns.distplot(Telecom_filtered_data_merge_V01['Total_DV_SocialMedia'],bins = 20)\n",
    "ax.set(xlabel=\"Total Social Media (Bytes)\", ylabel = \"Frequency\")\n",
    "plt.title('A histogram of Social Media App Data volume(Bytes)')\n",
    "plt.savefig(\"Social Media App Data volume(Bytes).png\")\n",
    "plt.show()"
   ]
  },
  {
   "cell_type": "markdown",
   "metadata": {},
   "source": [
    "### Total_DV_Google (Data Volume) in bytes"
   ]
  },
  {
   "cell_type": "code",
   "execution_count": 94,
   "metadata": {},
   "outputs": [
    {
     "data": {
      "image/png": "[encoded data removed]",
      "text/plain": [
       "<Figure size 720x360 with 1 Axes>"
      ]
     },
     "metadata": {
      "needs_background": "light"
     },
     "output_type": "display_data"
    }
   ],
   "source": [
    "plt.figure(figsize=(10,5))\n",
    "ax = sns.distplot(Telecom_filtered_data_merge_V01['Total_DV_Google'],bins = 20)\n",
    "ax.set(xlabel=\"Total Google App Data Volume (Bytes)\", ylabel = \"Frequency\")\n",
    "plt.title('A histogram of Google App Data volume(Bytes)')\n",
    "plt.savefig(\"Google App Data volume Data volume(Bytes).png\")\n",
    "plt.show()"
   ]
  },
  {
   "cell_type": "markdown",
   "metadata": {},
   "source": [
    "### Total email (Data Volume) in bytes"
   ]
  },
  {
   "cell_type": "code",
   "execution_count": 96,
   "metadata": {},
   "outputs": [
    {
     "data": {
      "image/png": "[encoded data removed]",
      "text/plain": [
       "<Figure size 720x360 with 1 Axes>"
      ]
     },
     "metadata": {
      "needs_background": "light"
     },
     "output_type": "display_data"
    }
   ],
   "source": [
    "plt.figure(figsize=(10,5))\n",
    "ax = sns.distplot(Telecom_filtered_data_merge_V01['Total_DV_Email'],bins = 20)\n",
    "ax.set(xlabel=\"Total Email App Data Volume (Bytes)\", ylabel = \"Frequency\")\n",
    "plt.title('A histogram of Email App Data volume(Bytes)')\n",
    "plt.savefig(\"Email App Data volume Data volume(Bytes).png\")\n",
    "plt.show()"
   ]
  },
  {
   "cell_type": "markdown",
   "metadata": {},
   "source": [
    "### Total Netflix (Data Volume) in bytes"
   ]
  },
  {
   "cell_type": "code",
   "execution_count": 98,
   "metadata": {},
   "outputs": [
    {
     "data": {
      "image/png": "[encoded data removed]",
      "text/plain": [
       "<Figure size 720x360 with 1 Axes>"
      ]
     },
     "metadata": {
      "needs_background": "light"
     },
     "output_type": "display_data"
    }
   ],
   "source": [
    "plt.figure(figsize=(10,5))\n",
    "ax = sns.distplot(Telecom_filtered_data_merge_V01['Total_DV_Netflix'],bins = 40)\n",
    "ax.set(xlabel=\"Total Netflix App Data Volume (Bytes)\", ylabel = \"Frequency\")\n",
    "plt.title('An histogram of Netflix App Data volume(Bytes)')\n",
    "plt.savefig(\"Netflix App Data volume Data volume(Bytes).png\")\n",
    "plt.show()"
   ]
  },
  {
   "cell_type": "markdown",
   "metadata": {},
   "source": [
    "### Total Gaming (Data Volume) in bytes"
   ]
  },
  {
   "cell_type": "code",
   "execution_count": 99,
   "metadata": {},
   "outputs": [
    {
     "data": {
      "image/png": "[encoded data removed]",
      "text/plain": [
       "<Figure size 720x360 with 1 Axes>"
      ]
     },
     "metadata": {
      "needs_background": "light"
     },
     "output_type": "display_data"
    }
   ],
   "source": [
    "plt.figure(figsize=(10,5))\n",
    "ax = sns.distplot(Telecom_filtered_data_merge_V01['Total_DV_Gaming'],bins = 20)\n",
    "ax.set(xlabel=\"Total Gaming App Data Volume (Bytes)\", ylabel = \"Frequency\")\n",
    "plt.title('An  Gaming App Data volume(Bytes)')\n",
    "plt.savefig(\"Gaming App Data volume Data volume(Bytes).png\")\n",
    "plt.show()"
   ]
  },
  {
   "cell_type": "markdown",
   "metadata": {},
   "source": [
    "### You tube (Data Volume) in bytes"
   ]
  },
  {
   "cell_type": "code",
   "execution_count": 101,
   "metadata": {},
   "outputs": [
    {
     "data": {
      "image/png": "[encoded data removed]",
      "text/plain": [
       "<Figure size 720x360 with 1 Axes>"
      ]
     },
     "metadata": {
      "needs_background": "light"
     },
     "output_type": "display_data"
    }
   ],
   "source": [
    "plt.figure(figsize=(10,5))\n",
    "ax = sns.distplot(Telecom_filtered_data_merge_V01['Total_DV_Youtube'],bins = 20)\n",
    "ax.set(xlabel=\"Total Youtube App Data Volume (Bytes)\", ylabel = \"Frequency\")\n",
    "plt.title('Youtube App Data volume(Bytes)')\n",
    "plt.savefig(\"Youtube App Data volume Data volume(Bytes).png\")\n",
    "plt.show()"
   ]
  },
  {
   "cell_type": "code",
   "execution_count": 100,
   "metadata": {},
   "outputs": [
    {
     "data": {
      "text/plain": [
       "Index(['MSISDN/Number', 'XDR_sessions', 'Session_Duration', 'Total_UL',\n",
       "       'Total_DL', 'Total_DataVolume', 'Total_DV_SocialMedia',\n",
       "       'Total_DV_Google', 'Total_DV_Email', 'Total_DV_Youtube',\n",
       "       'Total_DV_Other', 'Total_DV_Gaming', 'Total_DV_Netflix'],\n",
       "      dtype='object')"
      ]
     },
     "execution_count": 100,
     "metadata": {},
     "output_type": "execute_result"
    }
   ],
   "source": [
    "Telecom_filtered_data_merge_V01.columns"
   ]
  },
  {
   "cell_type": "markdown",
   "metadata": {},
   "source": [
    "## Bivariate Analysis \n",
    "\n",
    "### Data consumption of applications  VS total data consumption."
   ]
  },
  {
   "cell_type": "code",
   "execution_count": 103,
   "metadata": {},
   "outputs": [
    {
     "data": {
      "text/plain": [
       "<Figure size 720x360 with 0 Axes>"
      ]
     },
     "metadata": {},
     "output_type": "display_data"
    },
    {
     "data": {
      "image/png": "[encoded data removed]",
      "text/plain": [
       "<Figure size 1152x504 with 6 Axes>"
      ]
     },
     "metadata": {
      "needs_background": "light"
     },
     "output_type": "display_data"
    }
   ],
   "source": [
    "plt.figure(figsize=(10,5))\n",
    "f, ax_arr = plt.subplots(3,2, figsize=(16,7))\n",
    "# Social data plot\n",
    "ax_arr[0,0].scatter(Telecom_filtered_data_merge_V01.Total_DV_SocialMedia, Telecom_filtered_data_merge_V01.Total_DataVolume, color='c')\n",
    "ax_arr[0,0].set_title('Scatter Plot : Social media data vs total data volume')\n",
    "ax_arr[0,0].set_xlabel('Social media data')\n",
    "ax_arr[0,0].set_ylabel('Total data volume')\n",
    "# Google data plot\n",
    "ax_arr[0,1].scatter(Telecom_filtered_data_merge_V01.Total_DV_Google, Telecom_filtered_data_merge_V01.Total_DataVolume, color='darkblue')\n",
    "ax_arr[0,1].set_title('Scatter Plot : Total_DV_Google vs total data volume')\n",
    "ax_arr[0,1].set_xlabel('Total_DV_Google')\n",
    "ax_arr[0,1].set_ylabel('Total data volume')\n",
    "# Email data plot\n",
    "ax_arr[1,0].scatter(Telecom_filtered_data_merge_V01.Total_DV_Email, Telecom_filtered_data_merge_V01.Total_DataVolume, color='c')\n",
    "ax_arr[1,0].set_title('Scatter Plot : Total_DV_Email vs total data volume')\n",
    "ax_arr[1,0].set_xlabel('Total_DV_Email')\n",
    "ax_arr[1,0].set_ylabel('Total data volume')\n",
    "# Youtube data plot\n",
    "ax_arr[1,1].scatter(Telecom_filtered_data_merge_V01.Total_DV_Youtube, Telecom_filtered_data_merge_V01.Total_DataVolume, color='darkblue')\n",
    "ax_arr[1,1].set_title('Scatter Plot : Total_DV_Youtube vs total data volume')\n",
    "ax_arr[1,1].set_xlabel('Total_DV_Youtube')\n",
    "ax_arr[1,1].set_ylabel('Total data volume')\n",
    "# Netflix data plot\n",
    "ax_arr[2,0].scatter(Telecom_filtered_data_merge_V01.Total_DV_Netflix, Telecom_filtered_data_merge_V01.Total_DataVolume, color='c')\n",
    "ax_arr[2,0].set_title('Scatter Plot : Total_DV_Netflix vs total data volume')\n",
    "ax_arr[2,0].set_xlabel('Total_DV_Netflix')\n",
    "ax_arr[2,0].set_ylabel('Total data volume')\n",
    "# Gaming data plot\n",
    "ax_arr[2,1].scatter(Telecom_filtered_data_merge_V01.Total_DV_Gaming, Telecom_filtered_data_merge_V01.Total_DataVolume, color='darkblue')\n",
    "ax_arr[2,1].set_title('Scatter Plot : Total_DV_Gaming vs total data volume')\n",
    "ax_arr[2,1].set_xlabel('Total_DV_Gaming')\n",
    "ax_arr[2,1].set_ylabel('Total data volume')\n",
    "plt.tight_layout()\n",
    "plt.savefig(\"Correlation analysis.png\")\n",
    "plt.show()"
   ]
  },
  {
   "cell_type": "code",
   "execution_count": null,
   "metadata": {},
   "outputs": [],
   "source": []
  }
 ],
 "metadata": {
  "kernelspec": {
   "display_name": "Python 3",
   "language": "python",
   "name": "python3"
  },
  "language_info": {
   "codemirror_mode": {
    "name": "ipython",
    "version": 3
   },
   "file_extension": ".py",
   "mimetype": "text/x-python",
   "name": "python",
   "nbconvert_exporter": "python",
   "pygments_lexer": "ipython3",
   "version": "3.7.6"
  }
 },
 "nbformat": 4,
 "nbformat_minor": 4
}
